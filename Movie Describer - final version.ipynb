{
 "cells": [
  {
   "cell_type": "markdown",
   "metadata": {},
   "source": [
    "## Finding latent topics in a Movie\n",
    "The idéa of this experiment is to see if Topic Modeling can be used to find latent topics in movies.\n",
    "Two different topic models will be used, LDA and LSI. \n",
    "A large database of movie summaries will be used to fit the model. \n",
    "There exist several steps that have to be executed before we can start fitting data to the model.\n",
    "Existing implementations of the above topic models will be used in this experiment (gensim).\n",
    "\n",
    "## Pre-processing\n",
    "\n",
    "### 1. Importing neccessary libraries"
   ]
  },
  {
   "cell_type": "code",
   "execution_count": 1,
   "metadata": {
    "collapsed": false
   },
   "outputs": [
    {
     "name": "stderr",
     "output_type": "stream",
     "text": [
      "C:\\Users\\Dator\\Anaconda3\\lib\\site-packages\\gensim\\utils.py:840: UserWarning: detected Windows; aliasing chunkize to chunkize_serial\n",
      "  warnings.warn(\"detected Windows; aliasing chunkize to chunkize_serial\")\n",
      "C:\\Users\\Dator\\Anaconda3\\lib\\site-packages\\gensim\\utils.py:1015: UserWarning: Pattern library is not installed, lemmatization won't be available.\n",
      "  warnings.warn(\"Pattern library is not installed, lemmatization won't be available.\")\n"
     ]
    }
   ],
   "source": [
    "import os\n",
    "from gensim import models\n",
    "import nltk\n",
    "from nltk.tag.perceptron import PerceptronTagger\n",
    "import time\n",
    "import pickle\n",
    "from nltk.corpus import wordnet\n",
    "from nltk.stem import WordNetLemmatizer\n",
    "wordnet_lemmatizer = WordNetLemmatizer()\n",
    "from gensim import corpora\n",
    "from pprint import pprint\n",
    "from collections import defaultdict\n",
    "import operator\n",
    "from collections import namedtuple\n",
    "from gensim.models import CoherenceModel\n",
    "from gensim.corpora import Dictionary\n",
    "import matplotlib.pyplot as plt"
   ]
  },
  {
   "cell_type": "markdown",
   "metadata": {},
   "source": [
    "### 2. Loading data\n",
    "Loading the data. Each line of the summaries document consist of a summary. Each line will be stripped of special characters and numbers."
   ]
  },
  {
   "cell_type": "code",
   "execution_count": 2,
   "metadata": {
    "collapsed": false
   },
   "outputs": [],
   "source": [
    "# Used for loading CMU movie summary dataset\n",
    "def load_data(file_path):\n",
    "    # Loading the data\n",
    "    file = open(file_path, \"r\", encoding=\"utf-8\")\n",
    "    documents = []\n",
    "    document_count = 42305\n",
    "    # Read line for line (each line is a summary)\n",
    "    for index, line in enumerate(file):\n",
    "        if(index == document_count):\n",
    "            break\n",
    "        # Remove all special characters / numbers from the summary\n",
    "        line = line.translate({ord(c): None for c in '!@#$%^&*()[]{};:,./<>?\\|`~-=_+\",0123456789\\''}).strip()  \n",
    "        documents.append(line)\n",
    "    print(\"Loaded\",len(documents),\"summaries\")\n",
    "    #print(documents[1])\n",
    "    return documents\n"
   ]
  },
  {
   "cell_type": "code",
   "execution_count": 3,
   "metadata": {
    "collapsed": false
   },
   "outputs": [],
   "source": [
    "# User for loading the OPUS subtitle dataset\n",
    "def load_subtitles(nbr_of_subsets):\n",
    "    # Open 1 subset file (holds 1500 subtitles) | TODO: Run through more subtitle sets\n",
    "    list_of_subsets = os.listdir(\"Subtitles\")\n",
    "    # Intialize a new list of documents (subtitles)\n",
    "    list_of_subtitles = []\n",
    "    for subset in range(0, nbr_of_subsets):    \n",
    "        file = open(\"Subtitles\" + os.path.sep + list_of_subsets[subset], \"r\", encoding=\"utf8\")\n",
    "        subtitle = \"\"\n",
    "        # Read each line of the subset file.\n",
    "        for line in file:\n",
    "            # If line is a subtitle break line (meaning that we reached the end of 1 subtitle)\n",
    "            if line == \"!!!\\n\":\n",
    "                # Append the stored subtitle (subtitle variable) in the list of subtitles and start to read a new subtitle\n",
    "                list_of_subtitles.append(subtitle)\n",
    "                subtitle = \"\"\n",
    "                continue\n",
    "            else:\n",
    "                # Remove special characters and numbers\n",
    "                line = line.translate({ord(c): None for c in '!@#$%^&*()[]{};:,./<>?\\|`~-=_+\",0123456789\\''})\n",
    "                # Remove line break characters\n",
    "                line = line.replace(\"\\n\", \"\")\n",
    "                subtitle += line\n",
    "        file.close()\n",
    "        # When finished, the Documents list should contain 1500 elements. len(documents) == 1500\n",
    "        print(\"Number of subtitles read: \" + str(len(list_of_subtitles))) \n",
    "    return list_of_subtitles  "
   ]
  },
  {
   "cell_type": "markdown",
   "metadata": {},
   "source": [
    "### 3. Loading stopwords\n",
    "Stopwords are words which are considered to provide no direct meaning to the movie. Words like is, are, this, that as well as names that would confuse our topic models resultning in topics of names (since there are A LOT of names in movies)."
   ]
  },
  {
   "cell_type": "code",
   "execution_count": 4,
   "metadata": {
    "collapsed": false
   },
   "outputs": [],
   "source": [
    "def load_stopwords():\n",
    "    # Loading stop-words from file\n",
    "    stopwords_file = open(\"stopwords.txt\", \"r\")\n",
    "    stopwords = []\n",
    "    for line in stopwords_file:\n",
    "        stopwords.append(line.replace(\"\\n\", \"\").lower())\n",
    "    stopwords_file.close()\n",
    "    # Convert to a set. Since python sets are a lot faster then lists when it comes to finding unique items.\n",
    "    stopwords = set(stopwords)\n",
    "    print(\"Finished loading stop-words\")\n",
    "    return stopwords"
   ]
  },
  {
   "cell_type": "markdown",
   "metadata": {},
   "source": [
    "### 4. Part-of-Speech tagging\n",
    "Part-of-speech tagging enables us to remove words that are not nouns. Nouns are considered to give the most thematic meaning. Adverds and adjectives may not provide as much thematic meaning.\n",
    "Two functions are provided below, pos_tag_documents is used when transforming data to fit the model. pos_tag_documents in itself uses pos_tag to actually tag documents. pos_tag by itself is used when POS-tagging test documents in a later stage when we want to test our trained model. "
   ]
  },
  {
   "cell_type": "code",
   "execution_count": 5,
   "metadata": {
    "collapsed": true
   },
   "outputs": [],
   "source": [
    "def pos_tag(documents):\n",
    "    start_time = time.time()\n",
    "    # Vectorize, POS-tag -> Keep only nouns\n",
    "    tagger = PerceptronTagger()\n",
    "    # For each document in documents. \n",
    "    for index, doc in enumerate(documents):\n",
    "        # Tokenize the words\n",
    "        words = nltk.word_tokenize(doc)\n",
    "        # POS-tag each word\n",
    "        documents[index] = tagger.tag(words)\n",
    "    seconds = time.time() - start_time\n",
    "    m, s = divmod(seconds, 60)\n",
    "    print(\"Pos-tagging took \", m, \":\", s , \" seconds\")\n",
    "    return documents"
   ]
  },
  {
   "cell_type": "code",
   "execution_count": 6,
   "metadata": {
    "collapsed": false
   },
   "outputs": [],
   "source": [
    "def pos_tag_documents(documents):\n",
    "    file_name = \"pos_tagged_corpus.corp\" + str(len(documents))\n",
    "    if os.path.isfile(file_name):\n",
    "        file = open(file_name, \"rb\")\n",
    "        documents = pickle.load(file)\n",
    "    else:\n",
    "        documents = pos_tag(documents)\n",
    "        # Store POS-tagged file\n",
    "        pos_file = open(file_name, \"wb\")\n",
    "        pickle.dump(documents, pos_file)\n",
    "        pos_file.close()\n",
    "    return documents"
   ]
  },
  {
   "cell_type": "markdown",
   "metadata": {},
   "source": [
    "### 5. Trimming stopwords/keeping nouns and lemmatization\n",
    "remove_nouns_stopwords is the function that removes both stopwords and anything that isn't a noun. It will used get_wordnet_pos to transform TreeBank-tags (returned by the lemmatizer method) to Wordnet tags that are easier to use.\n",
    "Lemmatization is the process of finding a words \"base\". For example, soldiers would become soldier, writing would become write.\n",
    "This reduces the dimentions of our document as well as increase weights of words that appear in different forms. "
   ]
  },
  {
   "cell_type": "code",
   "execution_count": 7,
   "metadata": {
    "collapsed": false
   },
   "outputs": [],
   "source": [
    "def get_wordnet_pos(treebank_tag):\n",
    "    if treebank_tag.startswith('J'):\n",
    "        return wordnet.ADJ\n",
    "    elif treebank_tag.startswith('V'):\n",
    "        return wordnet.VERB\n",
    "    elif treebank_tag == 'NN':\n",
    "        return wordnet.NOUN\n",
    "    elif treebank_tag == 'NNS':\n",
    "        return wordnet.NOUN\n",
    "    elif treebank_tag.startswith('R'):\n",
    "        return wordnet.ADV\n",
    "    else:\n",
    "        return wordnet.ADJ    "
   ]
  },
  {
   "cell_type": "code",
   "execution_count": 8,
   "metadata": {
    "collapsed": false
   },
   "outputs": [],
   "source": [
    "def remove_nouns_stopwords(documents, stopwords):\n",
    "    start_time = time.time()\n",
    "    \n",
    "    for doc_index, doc in enumerate(documents):\n",
    "        trimmed_words = []\n",
    "        for word_index, word in enumerate(doc):\n",
    "            if get_wordnet_pos(word[1]) == wordnet.NOUN:\n",
    "                    #del documents[doc_index][word_index]\n",
    "                    if word[0].lower() not in stopwords and len(word) > 1:\n",
    "                        #stemmed_word = stemmer.stem(word[0].lower())\n",
    "                        lemma = wordnet_lemmatizer.lemmatize(word[0], pos=get_wordnet_pos(word[1])).lower()\n",
    "                        trimmed_words.append(lemma)\n",
    "        documents[doc_index] = trimmed_words\n",
    "    #print(documents[1])\n",
    "    seconds = time.time() - start_time\n",
    "    m, s = divmod(seconds, 60)\n",
    "    print(\"POS-trimming took \", m, \":\", s , \" seconds\")\n",
    "    return documents"
   ]
  },
  {
   "cell_type": "markdown",
   "metadata": {},
   "source": [
    "### 6. Pruning unneccessary words\n",
    "Another step to reduce dimensionality is to prune words that only exist in a few documents as well as words that exist in too many documents. "
   ]
  },
  {
   "cell_type": "code",
   "execution_count": 9,
   "metadata": {
    "collapsed": false
   },
   "outputs": [],
   "source": [
    "def prune_documents(documents, lowest_freq, highest_freq):\n",
    "    dictionary = corpora.Dictionary(documents)\n",
    "    #dictionary.save('subtitles.dict')  # store the dictionary, for future reference\n",
    "    print(dictionary)\n",
    "    # Prune the dictionary\n",
    "    #dictionary.filter_extremes(no_below=5, no_above=0.10)\n",
    "    dictionary.filter_extremes(no_below=lowest_freq, no_above=highest_freq)\n",
    "    \n",
    "    print(\"Pruned dict: \", dictionary)\n",
    "    #pprint(dictionary.token2id)\n",
    "    return dictionary"
   ]
  },
  {
   "cell_type": "markdown",
   "metadata": {},
   "source": [
    "### 7. Formatting documents before fitting to model\n",
    "Formatting the data is required to be able to fit the two different models. \n",
    "Every document will be transformed into a bag-of-words. A BOW is basically a list of frequencies. How often a word occur in the document. \n",
    "A corpus, is a list of BOW's. "
   ]
  },
  {
   "cell_type": "code",
   "execution_count": 10,
   "metadata": {
    "collapsed": true
   },
   "outputs": [],
   "source": [
    "def convert_to_corpus(documents, dictionary):\n",
    "    corpus = [dictionary.doc2bow(doc) for doc in documents]\n",
    "    # Store to disc for later use\n",
    "    #corpora.MmCorpus.serialize('subtitles.mm', corpus) \n",
    "    print(\"Created a corpus of bag-of-words\")\n",
    "    return corpus"
   ]
  },
  {
   "cell_type": "markdown",
   "metadata": {},
   "source": [
    "## Training the topic models\n",
    "LSI: this model will first transform our corpus of bow's to a corpus of TF-IDF (term frequency, inverse document frequency). TF-IDF is a way of lowering the weights of words that appear frequently across the corpus. Thus, resulting in unique words getting a higher weight. \n",
    "LDA: only requires our prepared Corpus of bow's. This gensim LDA implementation is using multiple CPU cores resulting in a MUCH faster training time. There are multiple parameters that can be tweaked to improve the coherence of the topics. The most important ones are, the number of passes that the LDA algorithm will do over the corpus as well as the number of topics we want it to find. "
   ]
  },
  {
   "cell_type": "code",
   "execution_count": 11,
   "metadata": {
    "collapsed": false
   },
   "outputs": [],
   "source": [
    "def lsi(corpus, topics):\n",
    "    print(\"Running LSI...\")\n",
    "    tfidf = models.TfidfModel(corpus)\n",
    "    corpus_tfidf = tfidf[corpus]\n",
    "    #for i in range(0,10):\n",
    "    #    print(corpus_tfidf[i])\n",
    "    start = time.time()\n",
    "    lsi = models.LsiModel(corpus_tfidf, id2word=dictionary, num_topics=topics)\n",
    "    end = time.time()\n",
    "    print(\"Training finished.. It took: \", end - start, \" seconds\")\n",
    "    #corpus_lsi = lsi[corpus_tfidf]\n",
    "    #pprint(lsi.print_topics(10))\n",
    "    return lsi\n"
   ]
  },
  {
   "cell_type": "code",
   "execution_count": 40,
   "metadata": {
    "collapsed": false
   },
   "outputs": [],
   "source": [
    "import logging\n",
    "#logging.basicConfig(format='%(asctime)s : %(levelname)s : %(message)s', level=logging.INFO)\n",
    "\n",
    "def lda_multicore(corpus, dictionary, topics, passes, iterations):\n",
    "    print(\"Running LDA...\")\n",
    "    start = time.time()\n",
    "    #lda = models.LdaMulticore(corpus, id2word=dictionary, num_topics=50, workers=3, passes=100)\n",
    "    lda = models.LdaMulticore(corpus, id2word=dictionary, num_topics=topics, passes=passes, iterations=iterations)\n",
    "    end = time.time()\n",
    "    print(\"Training finished.. It took: \", end - start, \" seconds\")\n",
    "    return lda"
   ]
  },
  {
   "cell_type": "markdown",
   "metadata": {},
   "source": [
    "### Training"
   ]
  },
  {
   "cell_type": "code",
   "execution_count": 13,
   "metadata": {
    "collapsed": false
   },
   "outputs": [],
   "source": [
    "def train(algo, topics, passes, iterations):\n",
    "    model = None\n",
    "    if algo.lower() == \"lda\":\n",
    "        # Run LDA in multicore setup. \n",
    "        model = lda_multicore(corpus, dictionary, topics, passes, iterations)\n",
    "        # Print topics with there respective highest relevance words.\n",
    "        pprint(model.print_topics(-1))\n",
    "    else:\n",
    "        # Run LSI\n",
    "        model = lsi(corpus, topics)\n",
    "        model.print_topics(-1)\n",
    "    return model\n",
    "    "
   ]
  },
  {
   "cell_type": "markdown",
   "metadata": {},
   "source": [
    "## Testing\n",
    "To test the model we can simply use our model to infer latent topics on new documents. We will then examine the resulting topics. The test document requires some preprocessing as well before we use it on the model."
   ]
  },
  {
   "cell_type": "code",
   "execution_count": 14,
   "metadata": {
    "collapsed": false
   },
   "outputs": [],
   "source": [
    "def lda_testing(bow):  \n",
    "    # Use existing LDA model to infer topics on this new document\n",
    "    topics = model[bow]\n",
    "    print(\"\\n\")\n",
    "    # Sort the infered topics\n",
    "    sorted_topics = list(sorted(topics, key=lambda x: x[1], reverse=True))\n",
    "    # Print the topic names and the top 6 words for each topic\n",
    "    for topic in sorted_topics:\n",
    "        print(\"\\nProb: \", topic[1], \" : \\n\", model.print_topic(topic[0], 6))\n",
    "\n",
    "def lsi_testing(bow):\n",
    "    tfidf_score = model[bow]\n",
    "    #print(tfidf_score)\n",
    "    data = model[tfidf_score]\n",
    "    data_sorted = sorted(data, key=lambda x: x[1], reverse=True)\n",
    "    for doc in data_sorted:\n",
    "        pprint(model.print_topic(doc[0]))        \n",
    "        \n",
    "def run_test(algo, file_path):\n",
    "    # Loading the test-data\n",
    "    test_documents = load_data(file_path)\n",
    "    for doc in test_documents:\n",
    "        print(\"\\n\\nDocument:\\n\", doc, \"\\n\")\n",
    "        # POS-tag*\n",
    "        test_doc = []\n",
    "        test_doc.append(doc)\n",
    "        test_doc_tagged = pos_tag(test_doc)\n",
    "        print(\"\\n\\nPOS-tagged:\\n\", test_doc_tagged )\n",
    "        # Remove stopwords etc\n",
    "        clean_test_doc = remove_nouns_stopwords(test_doc_tagged, stopwords)\n",
    "        print(\"\\n\\nCleaned:\\n\", clean_test_doc[0], \"\\n\" )        \n",
    "        # Convert to bag-of-words\n",
    "        bow = dictionary.doc2bow(clean_test_doc[0])        \n",
    "        if algo.lower() == \"lda\":\n",
    "            lda_testing(bow)\n",
    "        else:\n",
    "            lsi_testing(bow)"
   ]
  },
  {
   "cell_type": "markdown",
   "metadata": {},
   "source": [
    "### Running pre-processing\n",
    "This section will run the above defined functions to preprocess the data, making it available for use in evaluation and testing"
   ]
  },
  {
   "cell_type": "code",
   "execution_count": 78,
   "metadata": {
    "collapsed": false
   },
   "outputs": [
    {
     "name": "stdout",
     "output_type": "stream",
     "text": [
      "Loaded 42305 summaries\n",
      "Finished loading stop-words\n",
      "POS-trimming took  0.0 : 20.516443729400635  seconds\n",
      "Dictionary(51909 unique tokens: ['love—without', 'selfdeprecation', '“clients”', 'motherinlaw’s', 'sister—and']...)\n",
      "Pruned dict:  Dictionary(13749 unique tokens: ['unites', 'trapeze', 'cofounder', 'chisel', 'reconnaissance']...)\n",
      "Created a corpus of bag-of-words\n"
     ]
    }
   ],
   "source": [
    "# Loading the data into a list of documents\n",
    "documents = load_data(\"plot_summaries.txt\") # Loads the CMU summaries\n",
    "#documents = load_subtitles(5) # Loads the OPUS subtitle corpus\n",
    "\n",
    "# Loading stopwords \n",
    "stopwords = load_stopwords()\n",
    "# Part-of-speech tagging every word in each document\n",
    "tagged_documents = pos_tag_documents(documents)\n",
    "# Remove every word that appears in stopwords or/and is NOT a noun\n",
    "clean_documents = remove_nouns_stopwords(tagged_documents, stopwords)\n",
    "# Prune the list of documents and remove elements that appear in less then 5 documents and in more then 10% of the documents.\n",
    "dictionary = prune_documents(clean_documents, 5, 0.6)\n",
    "# Convert the list of documents into a corpus (basically a list of bag-of-words)\n",
    "corpus = convert_to_corpus(clean_documents, dictionary)"
   ]
  },
  {
   "cell_type": "markdown",
   "metadata": {},
   "source": [
    "## Evaluation\n",
    "#### NOTE: RUN WITH CARE!!\n",
    "All the methods below this mark until LDA execution (last step) is used to evalute different models to find different optimal parameters. This take a considerable amount of time, in total in has taken a i7 4790k intel CPU approx 6-8 hours running on all cores to produce this results. Also note that, running evalution multiple times most likely yields different results each time. Should however, be similar."
   ]
  },
  {
   "cell_type": "markdown",
   "metadata": {},
   "source": [
    "The below method is needed for the evalution and graph printing code below to function properly. Only the dictionary object gets pruned in the pruning step above which is the only one needing pruning before the corpus is created. However, the evaluation functions below require that the \"texts\" is of the same length as the corpus. The below method essentially copies all the unique words from the dictionary. It will take some time. Could most likely be improved for better performance. "
   ]
  },
  {
   "cell_type": "code",
   "execution_count": null,
   "metadata": {
    "collapsed": false
   },
   "outputs": [],
   "source": [
    "dict_list = []\n",
    "for val in dictionary.itervalues():\n",
    "    dict_list.append(val)\n",
    "print(\"Values: \", len(dict_list))\n",
    "    \n",
    "print(\"Running cleaning\")\n",
    "start = time.time()\n",
    "texts = []\n",
    "for i, doc in enumerate(clean_documents):\n",
    "    text = []\n",
    "    for word_idx, word in enumerate(clean_documents[i]):\n",
    "        if word in dict_list:\n",
    "            #del clean_documents[i][word_idx]\n",
    "            text.append(word)\n",
    "    if(len(text) > 0):\n",
    "        texts.append(text)\n",
    "end = time.time()\n",
    "print(\"Cleaning finished.. It took: \", end - start, \" seconds\")\n",
    "print(str(texts))"
   ]
  },
  {
   "cell_type": "markdown",
   "metadata": {},
   "source": [
    "### Methods for evaluating topics, passes and iterations\n",
    "This code is borrowed from https://gist.github.com/dsquareindia/ac9d3bf57579d02302f9655db8dfdd55 and I have only customized it to my needs. Therefore I take no credit for this code. "
   ]
  },
  {
   "cell_type": "code",
   "execution_count": 50,
   "metadata": {
    "collapsed": true
   },
   "outputs": [],
   "source": [
    "%matplotlib inline\n",
    "\n",
    "def evaluate_topics(dictionary, corpus, texts, f_limit, t_limit):\n",
    "    c_v = []\n",
    "    lm_list = []\n",
    "    for num_topics in range(f_limit, t_limit):\n",
    "        lm = models.LdaMulticore(corpus=corpus, num_topics=num_topics, id2word=dictionary, passes=25, iterations=50)\n",
    "        lm_list.append(lm)\n",
    "        cm = CoherenceModel(model=lm, texts=texts, dictionary=dictionary, coherence='c_v')\n",
    "        c_v.append(cm.get_coherence())\n",
    "        \n",
    "    # Show graph\n",
    "    x = range(f_limit, t_limit)\n",
    "    plt.plot(x, c_v)\n",
    "    plt.xlabel(\"num_topics\")\n",
    "    plt.ylabel(\"Coherence score\")\n",
    "    plt.legend((\"cv\"), loc='best')\n",
    "    plt.show()   \n",
    "    return lm_list\n"
   ]
  },
  {
   "cell_type": "code",
   "execution_count": 62,
   "metadata": {
    "collapsed": true
   },
   "outputs": [],
   "source": [
    "%matplotlib inline\n",
    "\n",
    "def evalutate_passes(dictionary, corpus, texts, f_limit, t_limit, step):\n",
    "    c_v = []\n",
    "    lm_list = []\n",
    "    for num_passes in range(f_limit, t_limit, step):\n",
    "        lm = models.LdaMulticore(corpus=corpus, num_topics=56, id2word=dictionary, passes=num_passes)\n",
    "        lm_list.append(lm)\n",
    "        cm = CoherenceModel(model=lm, texts=texts, dictionary=dictionary, coherence='c_v')\n",
    "        c_v.append(cm.get_coherence())\n",
    "        print(num_passes, \" done..\")\n",
    "        \n",
    "    # Show graph\n",
    "    x = range(f_limit, t_limit, step)\n",
    "    plt.plot(x, c_v)\n",
    "    plt.xlabel(\"num_passes\")\n",
    "    plt.ylabel(\"Coherence score\")\n",
    "    plt.legend((\"cv\"), loc='best')\n",
    "    plt.show()\n",
    "    \n",
    "    return lm_list\n"
   ]
  },
  {
   "cell_type": "code",
   "execution_count": 69,
   "metadata": {
    "collapsed": true
   },
   "outputs": [],
   "source": [
    "%matplotlib inline\n",
    "\n",
    "def evalutate_iterations(dictionary, corpus, texts, f_limit, t_limit, step):\n",
    "    c_v = []\n",
    "    lm_list = []\n",
    "    for num_iterations in range(f_limit, t_limit, step):\n",
    "        lm = models.LdaMulticore(corpus=corpus, num_topics=56, id2word=dictionary, passes=25, iterations=num_iterations)\n",
    "        lm_list.append(lm)\n",
    "        cm = CoherenceModel(model=lm, texts=texts, dictionary=dictionary, coherence='c_v')\n",
    "        c_v.append(cm.get_coherence())\n",
    "        print(num_iterations, \" done..\")\n",
    "        \n",
    "    # Show graph\n",
    "    x = range(f_limit, t_limit, step)\n",
    "    plt.plot(x, c_v)\n",
    "    plt.xlabel(\"num_iterations\")\n",
    "    plt.ylabel(\"Coherence score\")\n",
    "    plt.legend((\"cv\"), loc='best')\n",
    "    plt.show()\n",
    "    \n",
    "    return lm_list"
   ]
  },
  {
   "cell_type": "markdown",
   "metadata": {},
   "source": [
    "### Running the evaluation steps\n",
    "These are not necessary unless evaluation has to be done. These steps will take an considerable amount of time. LDA can be executed without these evaluation steps. Just run the last step and enter the parameters."
   ]
  },
  {
   "cell_type": "code",
   "execution_count": 48,
   "metadata": {
    "collapsed": false
   },
   "outputs": [
    {
     "data": {
      "image/png": "[encoded data removed]",
      "text/plain": [
       "<matplotlib.figure.Figure at 0x1720160ecc0>"
      ]
     },
     "metadata": {},
     "output_type": "display_data"
    }
   ],
   "source": [
    "# Topics\n",
    "# Running coherence test for models ranging from 20 - 70 topics. 15 passes and 50 iterations were used.\n",
    "lm_list = evaluate_topics(dictionary, corpus, texts, 20, 70)"
   ]
  },
  {
   "cell_type": "code",
   "execution_count": 64,
   "metadata": {
    "collapsed": false
   },
   "outputs": [
    {
     "name": "stdout",
     "output_type": "stream",
     "text": [
      "10  done..\n",
      "15  done..\n",
      "20  done..\n",
      "25  done..\n",
      "30  done..\n",
      "35  done..\n",
      "40  done..\n",
      "45  done..\n",
      "50  done..\n",
      "55  done..\n",
      "60  done..\n",
      "65  done..\n",
      "70  done..\n",
      "75  done..\n",
      "80  done..\n",
      "85  done..\n",
      "90  done..\n",
      "95  done..\n"
     ]
    },
    {
     "data": {
      "image/png": "[encoded data removed]",
      "text/plain": [
       "<matplotlib.figure.Figure at 0x171c384df98>"
      ]
     },
     "metadata": {},
     "output_type": "display_data"
    }
   ],
   "source": [
    "# Evaluate Passes\n",
    "# Method to trigger the passes evaluation function.\n",
    "lm_list_passes = evalutate_passes(dictionary, corpus, texts, 10, 100, 5)"
   ]
  },
  {
   "cell_type": "code",
   "execution_count": 70,
   "metadata": {
    "collapsed": false
   },
   "outputs": [
    {
     "name": "stdout",
     "output_type": "stream",
     "text": [
      "10  done..\n",
      "60  done..\n",
      "110  done..\n",
      "160  done..\n"
     ]
    },
    {
     "data": {
      "image/png": "[encoded data removed]",
      "text/plain": [
       "<matplotlib.figure.Figure at 0x171c3692b38>"
      ]
     },
     "metadata": {},
     "output_type": "display_data"
    }
   ],
   "source": [
    "# Evalute iterations\n",
    "# Trigger function to evalute iterations, ranging from 10-210 in steps of 50. 56 topics and 25 passes are set.\n",
    "lm_list_passes = evalutate_iterations(dictionary, corpus, texts, 10, 210, 50)"
   ]
  },
  {
   "cell_type": "markdown",
   "metadata": {},
   "source": [
    "### Executing the model\n",
    "This step is executed to train the model and after that it will test the model by inferring topics on the test data.\n",
    "Both the topics and the inferred testing data topics will be printed in the output. Executing the LDA training could take some time depending on the CPU. Takes about 20min on an i7 4790k with 4 hyperthreaded (basically 8) cores. LDA is set to use all available CPU to train essentially maxing out the CPU at 100%. Use with care."
   ]
  },
  {
   "cell_type": "code",
   "execution_count": 79,
   "metadata": {
    "collapsed": false
   },
   "outputs": [
    {
     "name": "stdout",
     "output_type": "stream",
     "text": [
      "Running LDA...\n",
      "Training finished.. It took:  629.9285457134247  seconds\n",
      "[(0,\n",
      "  '0.041*\"doctor\" + 0.040*\"hospital\" + 0.027*\"life\" + 0.024*\"relationship\" + '\n",
      "  '0.023*\"daughter\" + 0.019*\"time\" + 0.016*\"marriage\" + 0.016*\"parent\" + '\n",
      "  '0.016*\"patient\" + 0.014*\"year\"'),\n",
      " (1,\n",
      "  '0.127*\"train\" + 0.067*\"station\" + 0.047*\"bus\" + 0.041*\"driver\" + '\n",
      "  '0.024*\"car\" + 0.019*\"passenger\" + 0.015*\"taxi\" + 0.012*\"track\" + '\n",
      "  '0.011*\"railway\" + 0.011*\"board\"'),\n",
      " (2,\n",
      "  '0.037*\"letter\" + 0.037*\"job\" + 0.027*\"relationship\" + 0.024*\"life\" + '\n",
      "  '0.022*\"company\" + 0.021*\"friend\" + 0.019*\"store\" + 0.017*\"boyfriend\" + '\n",
      "  '0.017*\"time\" + 0.015*\"woman\"'),\n",
      " (3,\n",
      "  '0.064*\"time\" + 0.023*\"bank\" + 0.020*\"diamond\" + 0.018*\"memory\" + '\n",
      "  '0.012*\"future\" + 0.011*\"vault\" + 0.009*\"travel\" + 0.009*\"security\" + '\n",
      "  '0.008*\"order\" + 0.007*\"number\"'),\n",
      " (4,\n",
      "  '0.034*\"body\" + 0.029*\"room\" + 0.018*\"death\" + 0.014*\"head\" + 0.012*\"face\" + '\n",
      "  '0.012*\"hand\" + 0.011*\"hospital\" + 0.010*\"knife\" + 0.008*\"demon\" + '\n",
      "  '0.008*\"doll\"'),\n",
      " (5,\n",
      "  '0.107*\"gold\" + 0.065*\"treasure\" + 0.044*\"map\" + 0.026*\"coin\" + 0.018*\"duck\" '\n",
      "  '+ 0.015*\"chip\" + 0.013*\"adventure\" + 0.011*\"location\" + 0.010*\"duo\" + '\n",
      "  '0.010*\"piece\"'),\n",
      " (6,\n",
      "  '0.345*\"child\" + 0.045*\"web\" + 0.024*\"story\" + 0.016*\"cult\" + 0.013*\"statue\" '\n",
      "  '+ 0.013*\"kid\" + 0.013*\"childrens\" + 0.012*\"film\" + 0.011*\"adult\" + '\n",
      "  '0.008*\"couple\"'),\n",
      " (7,\n",
      "  '0.135*\"ghost\" + 0.047*\"baseball\" + 0.024*\"bat\" + 0.021*\"ice\" + 0.016*\"vote\" '\n",
      "  '+ 0.016*\"cream\" + 0.013*\"game\" + 0.012*\"angel\" + 0.010*\"plate\" + '\n",
      "  '0.009*\"skull\"'),\n",
      " (8,\n",
      "  '0.139*\"prison\" + 0.052*\"guard\" + 0.048*\"prisoner\" + 0.027*\"jail\" + '\n",
      "  '0.026*\"cell\" + 0.025*\"inmate\" + 0.023*\"escape\" + 0.019*\"sentence\" + '\n",
      "  '0.017*\"camp\" + 0.015*\"release\"'),\n",
      " (9,\n",
      "  '0.168*\"girl\" + 0.073*\"boy\" + 0.063*\"group\" + 0.033*\"camp\" + 0.024*\"sister\" '\n",
      "  '+ 0.020*\"friend\" + 0.010*\"party\" + 0.008*\"counselor\" + 0.008*\"plan\" + '\n",
      "  '0.007*\"camper\"'),\n",
      " (10,\n",
      "  '0.045*\"power\" + 0.035*\"alien\" + 0.032*\"planet\" + 0.029*\"space\" + '\n",
      "  '0.028*\"scientist\" + 0.027*\"machine\" + 0.024*\"robot\" + 0.020*\"human\" + '\n",
      "  '0.019*\"earth\" + 0.017*\"experiment\"'),\n",
      " (11,\n",
      "  '0.075*\"spirit\" + 0.043*\"soul\" + 0.039*\"death\" + 0.030*\"mountain\" + '\n",
      "  '0.028*\"body\" + 0.021*\"asylum\" + 0.015*\"year\" + 0.014*\"god\" + 0.014*\"curse\" '\n",
      "  '+ 0.011*\"people\"'),\n",
      " (12,\n",
      "  '0.030*\"water\" + 0.025*\"group\" + 0.018*\"zombie\" + 0.014*\"lake\" + '\n",
      "  '0.013*\"cave\" + 0.012*\"survivor\" + 0.011*\"river\" + 0.011*\"boat\" + '\n",
      "  '0.009*\"egg\" + 0.008*\"attack\"'),\n",
      " (13,\n",
      "  '0.078*\"band\" + 0.077*\"music\" + 0.048*\"singer\" + 0.028*\"concert\" + '\n",
      "  '0.026*\"club\" + 0.021*\"performance\" + 0.021*\"rock\" + 0.020*\"stage\" + '\n",
      "  '0.017*\"group\" + 0.017*\"record\"'),\n",
      " (14,\n",
      "  '0.136*\"film\" + 0.039*\"story\" + 0.031*\"character\" + 0.025*\"scene\" + '\n",
      "  '0.024*\"book\" + 0.021*\"movie\" + 0.012*\"life\" + 0.010*\"event\" + '\n",
      "  '0.009*\"people\" + 0.009*\"series\"'),\n",
      " (15,\n",
      "  '0.183*\"town\" + 0.037*\"bank\" + 0.028*\"sheriff\" + 0.020*\"robber\" + '\n",
      "  '0.018*\"desert\" + 0.014*\"robbery\" + 0.012*\"townspeople\" + 0.011*\"spider\" + '\n",
      "  '0.010*\"deputy\" + 0.009*\"gun\"'),\n",
      " (16,\n",
      "  '0.149*\"baby\" + 0.061*\"church\" + 0.049*\"farm\" + 0.030*\"painting\" + '\n",
      "  '0.029*\"tree\" + 0.015*\"farmer\" + 0.014*\"child\" + 0.014*\"cottage\" + '\n",
      "  '0.013*\"birth\" + 0.012*\"mirror\"'),\n",
      " (17,\n",
      "  '0.054*\"vampire\" + 0.048*\"blood\" + 0.039*\"body\" + 0.023*\"woman\" + '\n",
      "  '0.021*\"box\" + 0.018*\"coffin\" + 0.014*\"museum\" + 0.014*\"kidnapper\" + '\n",
      "  '0.013*\"victim\" + 0.011*\"corpse\"'),\n",
      " (18,\n",
      "  '0.045*\"hotel\" + 0.032*\"wife\" + 0.020*\"job\" + 0.017*\"affair\" + '\n",
      "  '0.015*\"husband\" + 0.012*\"room\" + 0.011*\"divorce\" + 0.009*\"contract\" + '\n",
      "  '0.009*\"business\" + 0.009*\"secretary\"'),\n",
      " (19,\n",
      "  '0.107*\"truck\" + 0.033*\"park\" + 0.032*\"circus\" + 0.030*\"ball\" + 0.026*\"ring\" '\n",
      "  '+ 0.016*\"trailer\" + 0.014*\"ride\" + 0.013*\"road\" + 0.013*\"monkey\" + '\n",
      "  '0.012*\"clown\"'),\n",
      " (20,\n",
      "  '0.026*\"castle\" + 0.019*\"power\" + 0.016*\"palace\" + 0.015*\"order\" + '\n",
      "  '0.014*\"sword\" + 0.012*\"life\" + 0.011*\"kingdom\" + 0.010*\"spell\" + '\n",
      "  '0.010*\"battle\" + 0.009*\"time\"'),\n",
      " (21,\n",
      "  '0.041*\"door\" + 0.032*\"car\" + 0.032*\"room\" + 0.020*\"window\" + 0.017*\"gun\" + '\n",
      "  '0.013*\"floor\" + 0.012*\"fire\" + 0.010*\"wall\" + 0.010*\"head\" + 0.008*\"key\"'),\n",
      " (22,\n",
      "  '0.060*\"master\" + 0.030*\"shark\" + 0.027*\"art\" + 0.021*\"skill\" + '\n",
      "  '0.021*\"fight\" + 0.017*\"clan\" + 0.014*\"monk\" + 0.013*\"training\" + '\n",
      "  '0.012*\"mine\" + 0.012*\"sword\"'),\n",
      " (23,\n",
      "  '0.054*\"grandfather\" + 0.031*\"orphan\" + 0.030*\"orphanage\" + 0.029*\"snake\" + '\n",
      "  '0.019*\"woman\" + 0.018*\"nun\" + 0.016*\"story\" + 0.015*\"child\" + '\n",
      "  '0.012*\"convent\" + 0.011*\"people\"'),\n",
      " (24,\n",
      "  '0.120*\"village\" + 0.048*\"daughter\" + 0.037*\"brother\" + 0.028*\"villager\" + '\n",
      "  '0.017*\"marriage\" + 0.015*\"money\" + 0.015*\"story\" + 0.014*\"people\" + '\n",
      "  '0.013*\"family\" + 0.010*\"twin\"'),\n",
      " (25,\n",
      "  '0.069*\"grandmother\" + 0.059*\"bear\" + 0.050*\"wolf\" + 0.047*\"witch\" + '\n",
      "  '0.034*\"fashion\" + 0.028*\"piano\" + 0.023*\"model\" + 0.019*\"potion\" + '\n",
      "  '0.014*\"designer\" + 0.011*\"deer\"'),\n",
      " (26,\n",
      "  '0.036*\"men\" + 0.012*\"ranch\" + 0.012*\"bandit\" + 0.011*\"land\" + 0.010*\"gun\" + '\n",
      "  '0.009*\"wife\" + 0.009*\"town\" + 0.009*\"death\" + 0.008*\"order\" + '\n",
      "  '0.008*\"border\"'),\n",
      " (27,\n",
      "  '0.076*\"radio\" + 0.014*\"guitar\" + 0.012*\"time\" + 0.011*\"station\" + '\n",
      "  '0.010*\"broadcast\" + 0.009*\"music\" + 0.008*\"cigarette\" + 0.008*\"program\" + '\n",
      "  '0.008*\"life\" + 0.007*\"milk\"'),\n",
      " (28,\n",
      "  '0.119*\"life\" + 0.022*\"city\" + 0.022*\"story\" + 0.020*\"family\" + '\n",
      "  '0.017*\"people\" + 0.017*\"film\" + 0.015*\"year\" + 0.015*\"journey\" + '\n",
      "  '0.013*\"friend\" + 0.010*\"childhood\"'),\n",
      " (29,\n",
      "  '0.040*\"parent\" + 0.038*\"friend\" + 0.025*\"time\" + 0.022*\"kid\" + '\n",
      "  '0.020*\"family\" + 0.019*\"car\" + 0.018*\"party\" + 0.013*\"school\" + '\n",
      "  '0.010*\"trip\" + 0.008*\"life\"'),\n",
      " (30,\n",
      "  '0.066*\"plane\" + 0.038*\"pilot\" + 0.030*\"flight\" + 0.021*\"aircraft\" + '\n",
      "  '0.019*\"crash\" + 0.019*\"mission\" + 0.014*\"air\" + 0.014*\"base\" + '\n",
      "  '0.013*\"rocket\" + 0.012*\"missile\"'),\n",
      " (31,\n",
      "  '0.108*\"police\" + 0.022*\"officer\" + 0.021*\"crime\" + 0.021*\"cop\" + '\n",
      "  '0.017*\"gangster\" + 0.015*\"thief\" + 0.014*\"criminal\" + 0.014*\"wife\" + '\n",
      "  '0.012*\"bos\" + 0.012*\"gun\"'),\n",
      " (32,\n",
      "  '0.076*\"team\" + 0.048*\"agent\" + 0.026*\"spy\" + 0.014*\"formula\" + '\n",
      "  '0.011*\"order\" + 0.009*\"list\" + 0.008*\"plan\" + 0.007*\"president\" + '\n",
      "  '0.007*\"intelligence\" + 0.007*\"office\"'),\n",
      " (33,\n",
      "  '0.066*\"murder\" + 0.042*\"case\" + 0.038*\"killer\" + 0.033*\"police\" + '\n",
      "  '0.022*\"death\" + 0.019*\"evidence\" + 0.019*\"crime\" + 0.018*\"victim\" + '\n",
      "  '0.017*\"investigation\" + 0.017*\"court\"'),\n",
      " (34,\n",
      "  '0.068*\"woman\" + 0.034*\"sex\" + 0.032*\"apartment\" + 0.027*\"phone\" + '\n",
      "  '0.020*\"room\" + 0.018*\"party\" + 0.017*\"call\" + 0.015*\"bar\" + 0.014*\"couple\" '\n",
      "  '+ 0.011*\"men\"'),\n",
      " (35,\n",
      "  '0.094*\"game\" + 0.069*\"team\" + 0.038*\"player\" + 0.026*\"football\" + '\n",
      "  '0.026*\"competition\" + 0.021*\"coach\" + 0.012*\"match\" + 0.011*\"basketball\" + '\n",
      "  '0.011*\"time\" + 0.008*\"sport\"'),\n",
      " (36,\n",
      "  '0.149*\"race\" + 0.131*\"horse\" + 0.014*\"gypsy\" + 0.012*\"track\" + '\n",
      "  '0.012*\"lottery\" + 0.012*\"barber\" + 0.011*\"rider\" + 0.011*\"prize\" + '\n",
      "  '0.008*\"racer\" + 0.008*\"racing\"'),\n",
      " (37,\n",
      "  '0.049*\"beach\" + 0.036*\"oil\" + 0.035*\"plant\" + 0.026*\"water\" + '\n",
      "  '0.023*\"worker\" + 0.019*\"construction\" + 0.014*\"sea\" + 0.011*\"company\" + '\n",
      "  '0.010*\"site\" + 0.010*\"resort\"'),\n",
      " (38,\n",
      "  '0.047*\"government\" + 0.024*\"city\" + 0.022*\"computer\" + 0.016*\"virus\" + '\n",
      "  '0.014*\"country\" + 0.014*\"people\" + 0.014*\"official\" + 0.014*\"resistance\" + '\n",
      "  '0.013*\"group\" + 0.009*\"war\"'),\n",
      " (39,\n",
      "  '0.057*\"soldier\" + 0.036*\"battle\" + 0.035*\"army\" + 0.028*\"war\" + '\n",
      "  '0.023*\"attack\" + 0.023*\"force\" + 0.019*\"enemy\" + 0.017*\"group\" + '\n",
      "  '0.016*\"troop\" + 0.014*\"order\"'),\n",
      " (40,\n",
      "  '0.061*\"apartment\" + 0.026*\"dream\" + 0.022*\"building\" + 0.021*\"client\" + '\n",
      "  '0.016*\"work\" + 0.014*\"woman\" + 0.012*\"prostitute\" + 0.012*\"job\" + '\n",
      "  '0.009*\"business\" + 0.009*\"street\"'),\n",
      " (41,\n",
      "  '0.153*\"ship\" + 0.083*\"crew\" + 0.027*\"captain\" + 0.022*\"pirate\" + '\n",
      "  '0.018*\"board\" + 0.016*\"submarine\" + 0.013*\"boat\" + 0.012*\"sea\" + '\n",
      "  '0.012*\"sailor\" + 0.010*\"deck\"'),\n",
      " (42,\n",
      "  '0.120*\"money\" + 0.054*\"car\" + 0.013*\"drug\" + 0.013*\"job\" + 0.012*\"debt\" + '\n",
      "  '0.010*\"cash\" + 0.007*\"bank\" + 0.007*\"dollar\" + 0.007*\"casino\" + '\n",
      "  '0.006*\"order\"'),\n",
      " (43,\n",
      "  '0.046*\"cat\" + 0.026*\"mouse\" + 0.020*\"head\" + 0.016*\"hole\" + 0.012*\"cartoon\" '\n",
      "  '+ 0.012*\"bird\" + 0.011*\"time\" + 0.011*\"tree\" + 0.010*\"tail\" + '\n",
      "  '0.008*\"ground\"'),\n",
      " (44,\n",
      "  '0.237*\"gang\" + 0.052*\"member\" + 0.039*\"leader\" + 0.018*\"thug\" + '\n",
      "  '0.016*\"street\" + 0.015*\"motorcycle\" + 0.014*\"group\" + 0.013*\"fight\" + '\n",
      "  '0.012*\"plan\" + 0.011*\"tiger\"'),\n",
      " (45,\n",
      "  '0.086*\"fight\" + 0.055*\"match\" + 0.024*\"campaign\" + 0.018*\"opponent\" + '\n",
      "  '0.017*\"challenge\" + 0.017*\"fighter\" + 0.016*\"champion\" + 0.016*\"manager\" + '\n",
      "  '0.016*\"boxer\" + 0.016*\"round\"'),\n",
      " (46,\n",
      "  '0.058*\"film\" + 0.030*\"movie\" + 0.027*\"role\" + 0.026*\"actor\" + '\n",
      "  '0.021*\"director\" + 0.020*\"play\" + 0.017*\"stage\" + 0.016*\"dance\" + '\n",
      "  '0.016*\"actress\" + 0.014*\"studio\"'),\n",
      " (47,\n",
      "  '0.044*\"story\" + 0.038*\"reporter\" + 0.036*\"newspaper\" + 0.023*\"villain\" + '\n",
      "  '0.021*\"minister\" + 0.021*\"journalist\" + 0.020*\"hero\" + 0.019*\"news\" + '\n",
      "  '0.017*\"politician\" + 0.015*\"people\"'),\n",
      " (48,\n",
      "  '0.129*\"dog\" + 0.070*\"monster\" + 0.068*\"creature\" + 0.048*\"animal\" + '\n",
      "  '0.019*\"lion\" + 0.018*\"werewolf\" + 0.013*\"elephant\" + 0.013*\"beast\" + '\n",
      "  '0.012*\"lab\" + 0.011*\"balloon\"'),\n",
      " (49,\n",
      "  '0.157*\"family\" + 0.074*\"wife\" + 0.060*\"husband\" + 0.040*\"daughter\" + '\n",
      "  '0.022*\"life\" + 0.020*\"woman\" + 0.018*\"marriage\" + 0.015*\"child\" + '\n",
      "  '0.013*\"year\" + 0.012*\"son\"'),\n",
      " (50,\n",
      "  '0.163*\"school\" + 0.101*\"student\" + 0.047*\"teacher\" + 0.046*\"college\" + '\n",
      "  '0.036*\"class\" + 0.017*\"professor\" + 0.015*\"friend\" + 0.012*\"classmate\" + '\n",
      "  '0.010*\"university\" + 0.009*\"film\"'),\n",
      " (51,\n",
      "  '0.022*\"drug\" + 0.021*\"bomb\" + 0.017*\"agent\" + 0.014*\"gun\" + '\n",
      "  '0.011*\"terrorist\" + 0.011*\"police\" + 0.010*\"hostage\" + 0.010*\"officer\" + '\n",
      "  '0.010*\"group\" + 0.010*\"assassin\"'),\n",
      " (52,\n",
      "  '0.116*\"men\" + 0.041*\"war\" + 0.037*\"officer\" + 0.019*\"soldier\" + '\n",
      "  '0.016*\"order\" + 0.009*\"duty\" + 0.009*\"veteran\" + 0.009*\"woman\" + '\n",
      "  '0.008*\"slave\" + 0.008*\"fire\"'),\n",
      " (53,\n",
      "  '0.067*\"uncle\" + 0.042*\"factory\" + 0.034*\"aunt\" + 0.033*\"town\" + '\n",
      "  '0.025*\"worker\" + 0.020*\"mayor\" + 0.017*\"community\" + 0.010*\"union\" + '\n",
      "  '0.010*\"party\" + 0.010*\"time\"'),\n",
      " (54,\n",
      "  '0.080*\"wedding\" + 0.031*\"mansion\" + 0.022*\"estate\" + 0.018*\"marriage\" + '\n",
      "  '0.018*\"guest\" + 0.017*\"ceremony\" + 0.017*\"necklace\" + 0.016*\"bride\" + '\n",
      "  '0.016*\"party\" + 0.015*\"plan\"'),\n",
      " (55,\n",
      "  '0.102*\"island\" + 0.053*\"boat\" + 0.028*\"sea\" + 0.026*\"tribe\" + '\n",
      "  '0.015*\"native\" + 0.015*\"jungle\" + 0.015*\"expedition\" + 0.013*\"people\" + '\n",
      "  '0.012*\"land\" + 0.010*\"group\"')]\n",
      "Loaded 7 summaries\n",
      "\n",
      "\n",
      "Document:\n",
      " Jim Oz Finch and Kevin are four friends who make a pact that before they graduate they will all lose their virginity The hard job now is how to reach that goal by prom night Whilst Oz begins singing to grab attention and Kevin tries to persuade his girlfriend Finch tries any easy route of spreading rumors and Jim fails miserably Whether it is being caught on top of a pie or on the Internet Jim always ends up with his trusty sex advice from his father Will they achieve their goal of getting laid by prom night Or will they learn something much different \n",
      "\n",
      "Pos-tagging took  0.0 : 0.0055048465728759766  seconds\n",
      "\n",
      "\n",
      "POS-tagged:\n",
      " [[('Jim', 'NNP'), ('Oz', 'NNP'), ('Finch', 'NNP'), ('and', 'CC'), ('Kevin', 'NNP'), ('are', 'VBP'), ('four', 'CD'), ('friends', 'NNS'), ('who', 'WP'), ('make', 'VBP'), ('a', 'DT'), ('pact', 'NN'), ('that', 'WDT'), ('before', 'IN'), ('they', 'PRP'), ('graduate', 'VBP'), ('they', 'PRP'), ('will', 'MD'), ('all', 'DT'), ('lose', 'VB'), ('their', 'PRP$'), ('virginity', 'NN'), ('The', 'DT'), ('hard', 'JJ'), ('job', 'NN'), ('now', 'RB'), ('is', 'VBZ'), ('how', 'WRB'), ('to', 'TO'), ('reach', 'VB'), ('that', 'DT'), ('goal', 'NN'), ('by', 'IN'), ('prom', 'NN'), ('night', 'NN'), ('Whilst', 'NNP'), ('Oz', 'NNP'), ('begins', 'VBZ'), ('singing', 'VBG'), ('to', 'TO'), ('grab', 'VB'), ('attention', 'NN'), ('and', 'CC'), ('Kevin', 'NNP'), ('tries', 'NNS'), ('to', 'TO'), ('persuade', 'VB'), ('his', 'PRP$'), ('girlfriend', 'NN'), ('Finch', 'NNP'), ('tries', 'VBZ'), ('any', 'DT'), ('easy', 'JJ'), ('route', 'NN'), ('of', 'IN'), ('spreading', 'VBG'), ('rumors', 'NNS'), ('and', 'CC'), ('Jim', 'NNP'), ('fails', 'VBZ'), ('miserably', 'RB'), ('Whether', 'NNP'), ('it', 'PRP'), ('is', 'VBZ'), ('being', 'VBG'), ('caught', 'VBN'), ('on', 'IN'), ('top', 'NN'), ('of', 'IN'), ('a', 'DT'), ('pie', 'NN'), ('or', 'CC'), ('on', 'IN'), ('the', 'DT'), ('Internet', 'NNP'), ('Jim', 'NNP'), ('always', 'RB'), ('ends', 'VBZ'), ('up', 'RP'), ('with', 'IN'), ('his', 'PRP$'), ('trusty', 'JJ'), ('sex', 'NN'), ('advice', 'NN'), ('from', 'IN'), ('his', 'PRP$'), ('father', 'NN'), ('Will', 'NNP'), ('they', 'PRP'), ('achieve', 'VBP'), ('their', 'PRP$'), ('goal', 'NN'), ('of', 'IN'), ('getting', 'VBG'), ('laid', 'VBN'), ('by', 'IN'), ('prom', 'NN'), ('night', 'NN'), ('Or', 'NNP'), ('will', 'MD'), ('they', 'PRP'), ('learn', 'VB'), ('something', 'NN'), ('much', 'JJ'), ('different', 'JJ')]]\n",
      "POS-trimming took  0.0 : 0.0005123615264892578  seconds\n",
      "\n",
      "\n",
      "Cleaned:\n",
      " ['friend', 'pact', 'virginity', 'job', 'goal', 'prom', 'attention', 'girlfriend', 'route', 'rumor', 'top', 'pie', 'sex', 'advice', 'goal', 'prom'] \n",
      "\n",
      "\n",
      "\n",
      "\n",
      "Prob:  0.28415430604  : \n",
      " 0.163*\"school\" + 0.101*\"student\" + 0.047*\"teacher\" + 0.046*\"college\" + 0.036*\"class\" + 0.017*\"professor\"\n",
      "\n",
      "Prob:  0.22394088261  : \n",
      " 0.037*\"letter\" + 0.037*\"job\" + 0.027*\"relationship\" + 0.024*\"life\" + 0.022*\"company\" + 0.021*\"friend\"\n",
      "\n",
      "Prob:  0.137389451947  : \n",
      " 0.168*\"girl\" + 0.073*\"boy\" + 0.063*\"group\" + 0.033*\"camp\" + 0.024*\"sister\" + 0.020*\"friend\"\n",
      "\n",
      "Prob:  0.109842261173  : \n",
      " 0.046*\"cat\" + 0.026*\"mouse\" + 0.020*\"head\" + 0.016*\"hole\" + 0.012*\"cartoon\" + 0.012*\"bird\"\n",
      "\n",
      "Prob:  0.101361933509  : \n",
      " 0.094*\"game\" + 0.069*\"team\" + 0.038*\"player\" + 0.026*\"football\" + 0.026*\"competition\" + 0.021*\"coach\"\n",
      "\n",
      "Prob:  0.0907901563165  : \n",
      " 0.068*\"woman\" + 0.034*\"sex\" + 0.032*\"apartment\" + 0.027*\"phone\" + 0.020*\"room\" + 0.018*\"party\"\n",
      "\n",
      "\n",
      "Document:\n",
      " When his brother is killed in a robbery paraplegic Marine Jake Sully decides to take his place in a mission on the distant world of Pandora There he learns of greedy corporate figurehead Parker Selfridges intentions of driving off the native humanoid Navi in order to mine for the precious material scattered throughout their rich woodland In exchange for the spinal surgery that will fix his legs Jake gathers intel for the cooperating military unit spearheaded by gungho Colonel Quaritch while simultaneously attempting to infiltrate the Navi people with the use of an avatar identity While Jake begins to bond with the native tribe and quickly falls in love with the beautiful alien Neytiri the restless Colonel moves forward with his ruthless extermination tactics forcing the soldier to take a stand  and fight back in an epic battle for the fate of Pandora \n",
      "\n",
      "Pos-tagging took  0.0 : 0.010535955429077148  seconds\n",
      "\n",
      "\n",
      "POS-tagged:\n",
      " [[('When', 'WRB'), ('his', 'PRP$'), ('brother', 'NN'), ('is', 'VBZ'), ('killed', 'VBN'), ('in', 'IN'), ('a', 'DT'), ('robbery', 'NN'), ('paraplegic', 'NN'), ('Marine', 'NNP'), ('Jake', 'NNP'), ('Sully', 'NNP'), ('decides', 'VBZ'), ('to', 'TO'), ('take', 'VB'), ('his', 'PRP$'), ('place', 'NN'), ('in', 'IN'), ('a', 'DT'), ('mission', 'NN'), ('on', 'IN'), ('the', 'DT'), ('distant', 'JJ'), ('world', 'NN'), ('of', 'IN'), ('Pandora', 'NNP'), ('There', 'EX'), ('he', 'PRP'), ('learns', 'VBZ'), ('of', 'IN'), ('greedy', 'JJ'), ('corporate', 'JJ'), ('figurehead', 'NN'), ('Parker', 'NNP'), ('Selfridges', 'NNP'), ('intentions', 'NNS'), ('of', 'IN'), ('driving', 'VBG'), ('off', 'RP'), ('the', 'DT'), ('native', 'JJ'), ('humanoid', 'NN'), ('Navi', 'NNP'), ('in', 'IN'), ('order', 'NN'), ('to', 'TO'), ('mine', 'VB'), ('for', 'IN'), ('the', 'DT'), ('precious', 'JJ'), ('material', 'NN'), ('scattered', 'VBN'), ('throughout', 'IN'), ('their', 'PRP$'), ('rich', 'JJ'), ('woodland', 'NN'), ('In', 'IN'), ('exchange', 'NN'), ('for', 'IN'), ('the', 'DT'), ('spinal', 'JJ'), ('surgery', 'NN'), ('that', 'WDT'), ('will', 'MD'), ('fix', 'VB'), ('his', 'PRP$'), ('legs', 'NNS'), ('Jake', 'NNP'), ('gathers', 'NNS'), ('intel', 'NN'), ('for', 'IN'), ('the', 'DT'), ('cooperating', 'VBG'), ('military', 'JJ'), ('unit', 'NN'), ('spearheaded', 'VBN'), ('by', 'IN'), ('gungho', 'JJ'), ('Colonel', 'NNP'), ('Quaritch', 'NNP'), ('while', 'IN'), ('simultaneously', 'RB'), ('attempting', 'VBG'), ('to', 'TO'), ('infiltrate', 'VB'), ('the', 'DT'), ('Navi', 'NNP'), ('people', 'NNS'), ('with', 'IN'), ('the', 'DT'), ('use', 'NN'), ('of', 'IN'), ('an', 'DT'), ('avatar', 'NN'), ('identity', 'NN'), ('While', 'IN'), ('Jake', 'NNP'), ('begins', 'VBZ'), ('to', 'TO'), ('bond', 'NN'), ('with', 'IN'), ('the', 'DT'), ('native', 'JJ'), ('tribe', 'NN'), ('and', 'CC'), ('quickly', 'RB'), ('falls', 'NNS'), ('in', 'IN'), ('love', 'NN'), ('with', 'IN'), ('the', 'DT'), ('beautiful', 'JJ'), ('alien', 'NN'), ('Neytiri', 'NNP'), ('the', 'DT'), ('restless', 'JJ'), ('Colonel', 'NNP'), ('moves', 'VBZ'), ('forward', 'RB'), ('with', 'IN'), ('his', 'PRP$'), ('ruthless', 'NN'), ('extermination', 'NN'), ('tactics', 'NNS'), ('forcing', 'VBG'), ('the', 'DT'), ('soldier', 'NN'), ('to', 'TO'), ('take', 'VB'), ('a', 'DT'), ('stand', 'NN'), ('and', 'CC'), ('fight', 'NN'), ('back', 'RB'), ('in', 'IN'), ('an', 'DT'), ('epic', 'JJ'), ('battle', 'NN'), ('for', 'IN'), ('the', 'DT'), ('fate', 'NN'), ('of', 'IN'), ('Pandora', 'NNP')]]\n",
      "POS-trimming took  0.0 : 0.0  seconds\n",
      "\n",
      "\n",
      "Cleaned:\n",
      " ['robbery', 'paraplegic', 'place', 'mission', 'figurehead', 'intention', 'humanoid', 'order', 'material', 'woodland', 'exchange', 'surgery', 'leg', 'gather', 'intel', 'unit', 'people', 'avatar', 'identity', 'bond', 'tribe', 'fall', 'alien', 'ruthless', 'extermination', 'tactic', 'soldier', 'stand', 'fight', 'battle', 'fate'] \n",
      "\n",
      "\n",
      "\n",
      "\n",
      "Prob:  0.399025825445  : \n",
      " 0.057*\"soldier\" + 0.036*\"battle\" + 0.035*\"army\" + 0.028*\"war\" + 0.023*\"attack\" + 0.023*\"force\"\n",
      "\n",
      "Prob:  0.135196447951  : \n",
      " 0.041*\"doctor\" + 0.040*\"hospital\" + 0.027*\"life\" + 0.024*\"relationship\" + 0.023*\"daughter\" + 0.019*\"time\"\n",
      "\n",
      "Prob:  0.120930872742  : \n",
      " 0.108*\"police\" + 0.022*\"officer\" + 0.021*\"crime\" + 0.021*\"cop\" + 0.017*\"gangster\" + 0.015*\"thief\"\n",
      "\n",
      "Prob:  0.117615171632  : \n",
      " 0.045*\"power\" + 0.035*\"alien\" + 0.032*\"planet\" + 0.029*\"space\" + 0.028*\"scientist\" + 0.027*\"machine\"\n",
      "\n",
      "Prob:  0.0991440528871  : \n",
      " 0.102*\"island\" + 0.053*\"boat\" + 0.028*\"sea\" + 0.026*\"tribe\" + 0.015*\"native\" + 0.015*\"jungle\"\n",
      "\n",
      "Prob:  0.0553063745828  : \n",
      " 0.075*\"spirit\" + 0.043*\"soul\" + 0.039*\"death\" + 0.030*\"mountain\" + 0.028*\"body\" + 0.021*\"asylum\"\n",
      "\n",
      "Prob:  0.0445554483084  : \n",
      " 0.045*\"hotel\" + 0.032*\"wife\" + 0.020*\"job\" + 0.017*\"affair\" + 0.015*\"husband\" + 0.012*\"room\"\n",
      "\n",
      "\n",
      "Document:\n",
      " More than three decades after the debut of Carl Sagans groundbreaking and iconic series Cosmos A Personal Voyage its time once again to set sail for the stars Host and astrophysicist Neil deGrasse Tyson sets off on the Ship of the Imagination to discover Earths Cosmic Address and its coordinates in space and time Viewers meet Renaissance Italys Giordano Bruno who had an epiphany about the infinite expanse of the universe Then Tyson walks across the Cosmic Calendar on which all of time has been compressed into a yearataglance calendar from the Big Bang to the moment humans first make their appearance on the planet \n",
      "\n",
      "Pos-tagging took  0.0 : 0.007015228271484375  seconds\n",
      "\n",
      "\n",
      "POS-tagged:\n",
      " [[('More', 'RBR'), ('than', 'IN'), ('three', 'CD'), ('decades', 'NNS'), ('after', 'IN'), ('the', 'DT'), ('debut', 'NN'), ('of', 'IN'), ('Carl', 'NNP'), ('Sagans', 'NNP'), ('groundbreaking', 'NN'), ('and', 'CC'), ('iconic', 'JJ'), ('series', 'NN'), ('Cosmos', 'NNP'), ('A', 'NNP'), ('Personal', 'NNP'), ('Voyage', 'NNP'), ('its', 'PRP$'), ('time', 'NN'), ('once', 'RB'), ('again', 'RB'), ('to', 'TO'), ('set', 'VB'), ('sail', 'NN'), ('for', 'IN'), ('the', 'DT'), ('stars', 'NNS'), ('Host', 'NNP'), ('and', 'CC'), ('astrophysicist', 'JJ'), ('Neil', 'NNP'), ('deGrasse', 'NN'), ('Tyson', 'NNP'), ('sets', 'VBZ'), ('off', 'RP'), ('on', 'IN'), ('the', 'DT'), ('Ship', 'NNP'), ('of', 'IN'), ('the', 'DT'), ('Imagination', 'NNP'), ('to', 'TO'), ('discover', 'VB'), ('Earths', 'NNP'), ('Cosmic', 'NNP'), ('Address', 'NNP'), ('and', 'CC'), ('its', 'PRP$'), ('coordinates', 'NNS'), ('in', 'IN'), ('space', 'NN'), ('and', 'CC'), ('time', 'NN'), ('Viewers', 'NNP'), ('meet', 'NN'), ('Renaissance', 'NNP'), ('Italys', 'NNP'), ('Giordano', 'NNP'), ('Bruno', 'NNP'), ('who', 'WP'), ('had', 'VBD'), ('an', 'DT'), ('epiphany', 'NN'), ('about', 'IN'), ('the', 'DT'), ('infinite', 'JJ'), ('expanse', 'NN'), ('of', 'IN'), ('the', 'DT'), ('universe', 'JJ'), ('Then', 'RB'), ('Tyson', 'NNP'), ('walks', 'NNS'), ('across', 'IN'), ('the', 'DT'), ('Cosmic', 'NNP'), ('Calendar', 'NNP'), ('on', 'IN'), ('which', 'WDT'), ('all', 'DT'), ('of', 'IN'), ('time', 'NN'), ('has', 'VBZ'), ('been', 'VBN'), ('compressed', 'VBN'), ('into', 'IN'), ('a', 'DT'), ('yearataglance', 'NN'), ('calendar', 'NN'), ('from', 'IN'), ('the', 'DT'), ('Big', 'NNP'), ('Bang', 'NNP'), ('to', 'TO'), ('the', 'DT'), ('moment', 'NN'), ('humans', 'NNS'), ('first', 'RB'), ('make', 'VBP'), ('their', 'PRP$'), ('appearance', 'NN'), ('on', 'IN'), ('the', 'DT'), ('planet', 'NN')]]\n",
      "POS-trimming took  0.0 : 0.0  seconds\n",
      "\n",
      "\n",
      "Cleaned:\n",
      " ['decade', 'debut', 'groundbreaking', 'series', 'time', 'sail', 'star', 'degrasse', 'coordinate', 'space', 'time', 'meet', 'epiphany', 'expanse', 'walk', 'time', 'yearataglance', 'calendar', 'human', 'appearance', 'planet'] \n",
      "\n",
      "\n",
      "\n",
      "\n",
      "Prob:  0.278355952728  : \n",
      " 0.045*\"power\" + 0.035*\"alien\" + 0.032*\"planet\" + 0.029*\"space\" + 0.028*\"scientist\" + 0.027*\"machine\"\n",
      "\n",
      "Prob:  0.2487621174  : \n",
      " 0.058*\"film\" + 0.030*\"movie\" + 0.027*\"role\" + 0.026*\"actor\" + 0.021*\"director\" + 0.020*\"play\"\n",
      "\n",
      "Prob:  0.223401755974  : \n",
      " 0.136*\"film\" + 0.039*\"story\" + 0.031*\"character\" + 0.025*\"scene\" + 0.024*\"book\" + 0.021*\"movie\"\n",
      "\n",
      "Prob:  0.0761704023381  : \n",
      " 0.061*\"apartment\" + 0.026*\"dream\" + 0.022*\"building\" + 0.021*\"client\" + 0.016*\"work\" + 0.014*\"woman\"\n",
      "\n",
      "Prob:  0.06610131436  : \n",
      " 0.102*\"island\" + 0.053*\"boat\" + 0.028*\"sea\" + 0.026*\"tribe\" + 0.015*\"native\" + 0.015*\"jungle\"\n",
      "\n",
      "Prob:  0.0625656000578  : \n",
      " 0.153*\"ship\" + 0.083*\"crew\" + 0.027*\"captain\" + 0.022*\"pirate\" + 0.018*\"board\" + 0.016*\"submarine\"\n",
      "\n",
      "\n",
      "Document:\n",
      " It is Christmas time and the McCallister family is preparing for a vacation in Paris France But the youngest in the family named Kevin got into a scuffle with his older brother Buzz and was sent to his room which is on the third floor of his house Then the next morning while the rest of the family was in a rush to make it to the airport on time they completely forgot about Kevin who now has the house all to himself Being home alone was fun for Kevin having a pizza all to himself jumping on his parents bed and making a mess Then Kevin discovers about two burglars Harry and Marv about to rob his house on Christmas Eve Kevin acts quickly by wiring his own house with makeshift booby traps to stop the burglars and to bring them to justice \n",
      "\n",
      "Pos-tagging took  0.0 : 0.006508827209472656  seconds\n",
      "\n",
      "\n",
      "POS-tagged:\n",
      " [[('It', 'PRP'), ('is', 'VBZ'), ('Christmas', 'JJ'), ('time', 'NN'), ('and', 'CC'), ('the', 'DT'), ('McCallister', 'NNP'), ('family', 'NN'), ('is', 'VBZ'), ('preparing', 'VBG'), ('for', 'IN'), ('a', 'DT'), ('vacation', 'NN'), ('in', 'IN'), ('Paris', 'NNP'), ('France', 'NNP'), ('But', 'CC'), ('the', 'DT'), ('youngest', 'JJS'), ('in', 'IN'), ('the', 'DT'), ('family', 'NN'), ('named', 'VBN'), ('Kevin', 'NNP'), ('got', 'VBD'), ('into', 'IN'), ('a', 'DT'), ('scuffle', 'NN'), ('with', 'IN'), ('his', 'PRP$'), ('older', 'JJR'), ('brother', 'NN'), ('Buzz', 'NNP'), ('and', 'CC'), ('was', 'VBD'), ('sent', 'VBN'), ('to', 'TO'), ('his', 'PRP$'), ('room', 'NN'), ('which', 'WDT'), ('is', 'VBZ'), ('on', 'IN'), ('the', 'DT'), ('third', 'JJ'), ('floor', 'NN'), ('of', 'IN'), ('his', 'PRP$'), ('house', 'NN'), ('Then', 'RB'), ('the', 'DT'), ('next', 'JJ'), ('morning', 'NN'), ('while', 'IN'), ('the', 'DT'), ('rest', 'NN'), ('of', 'IN'), ('the', 'DT'), ('family', 'NN'), ('was', 'VBD'), ('in', 'IN'), ('a', 'DT'), ('rush', 'NN'), ('to', 'TO'), ('make', 'VB'), ('it', 'PRP'), ('to', 'TO'), ('the', 'DT'), ('airport', 'NN'), ('on', 'IN'), ('time', 'NN'), ('they', 'PRP'), ('completely', 'RB'), ('forgot', 'VBD'), ('about', 'IN'), ('Kevin', 'NNP'), ('who', 'WP'), ('now', 'RB'), ('has', 'VBZ'), ('the', 'DT'), ('house', 'NN'), ('all', 'DT'), ('to', 'TO'), ('himself', 'PRP'), ('Being', 'NNP'), ('home', 'NN'), ('alone', 'RB'), ('was', 'VBD'), ('fun', 'VBN'), ('for', 'IN'), ('Kevin', 'NNP'), ('having', 'VBG'), ('a', 'DT'), ('pizza', 'NN'), ('all', 'DT'), ('to', 'TO'), ('himself', 'PRP'), ('jumping', 'VBG'), ('on', 'IN'), ('his', 'PRP$'), ('parents', 'NNS'), ('bed', 'NN'), ('and', 'CC'), ('making', 'VBG'), ('a', 'DT'), ('mess', 'NN'), ('Then', 'RB'), ('Kevin', 'NNP'), ('discovers', 'NNS'), ('about', 'IN'), ('two', 'CD'), ('burglars', 'NNS'), ('Harry', 'NNP'), ('and', 'CC'), ('Marv', 'NNP'), ('about', 'IN'), ('to', 'TO'), ('rob', 'VB'), ('his', 'PRP$'), ('house', 'NN'), ('on', 'IN'), ('Christmas', 'NNP'), ('Eve', 'NNP'), ('Kevin', 'NNP'), ('acts', 'VBZ'), ('quickly', 'RB'), ('by', 'IN'), ('wiring', 'VBG'), ('his', 'PRP$'), ('own', 'JJ'), ('house', 'NN'), ('with', 'IN'), ('makeshift', 'NN'), ('booby', 'NN'), ('traps', 'NNS'), ('to', 'TO'), ('stop', 'VB'), ('the', 'DT'), ('burglars', 'NNS'), ('and', 'CC'), ('to', 'TO'), ('bring', 'VB'), ('them', 'PRP'), ('to', 'TO'), ('justice', 'VB')]]\n",
      "POS-trimming took  0.0 : 0.0  seconds\n",
      "\n",
      "\n",
      "Cleaned:\n",
      " ['time', 'family', 'vacation', 'family', 'scuffle', 'room', 'floor', 'morning', 'rest', 'family', 'rush', 'airport', 'time', 'pizza', 'parent', 'bed', 'mess', 'discovers', 'burglar', 'makeshift', 'booby', 'trap', 'burglar'] \n",
      "\n",
      "\n",
      "\n",
      "\n",
      "Prob:  0.365070742695  : \n",
      " 0.040*\"parent\" + 0.038*\"friend\" + 0.025*\"time\" + 0.022*\"kid\" + 0.020*\"family\" + 0.019*\"car\"\n",
      "\n",
      "Prob:  0.335694030861  : \n",
      " 0.041*\"door\" + 0.032*\"car\" + 0.032*\"room\" + 0.020*\"window\" + 0.017*\"gun\" + 0.013*\"floor\"\n",
      "\n",
      "Prob:  0.139703683534  : \n",
      " 0.108*\"police\" + 0.022*\"officer\" + 0.021*\"crime\" + 0.021*\"cop\" + 0.017*\"gangster\" + 0.015*\"thief\"\n",
      "\n",
      "Prob:  0.12084106672  : \n",
      " 0.157*\"family\" + 0.074*\"wife\" + 0.060*\"husband\" + 0.040*\"daughter\" + 0.022*\"life\" + 0.020*\"woman\"\n",
      "\n",
      "\n",
      "Document:\n",
      " The Oakland As end their  season with a loss in the AL fifth game of a best of five elimination series still an admirable accomplishment seeing as the As are considered a poor team with a payroll onethird of that of a rich team like the New York Yankees During the off season they lose three of their star players through free agency most problematic being first baseman Jason Giambi Without more money which he doesnt get from owner Stephen Schott the As GM Billy Beane knows that they will never win the World Series as richer teams will always be able to pilfer their best players  ones they have been able to nurture  with more lucrative contracts Billy knows they have to think differently about how to replace the three looking at what they require in combination rather than looking at the three as individuals which is different than the way scouts have looked at players over the sports history In a meeting with Cleveland Indians management about players Billy meets Peter Brand a quiet Yale Economics graduate who works for the Indians doing player analysis Upon questioning Peter later in private Billy realizes that purely academic Peter has much the same thought process as he does Billy hires him as the As Assistant GM after receiving what he considers the correct answer to Billys question on his own checkered past as a first round  draft pick which led to notoriety as a failure as a player But once on the payroll Peter convinces Billy to look at the entire dugout and acquire undervalued players for what they can do in order for the team to win As an example they acquire former catcher Scott Hatteberg whose career is seen as being over by all other teams due to an elbow injury that doesnt allow him to throw Although not a hitter they acquire him for his ability to get on base in whatever way required usually by walks and plan to teach him how to play first base a generally nonthrowing position These moves dont sit well with the As scouting team and sports analysts Problematic is that the As Manager Art Howe who also doesnt agree with or understand the strategy refuses to listen to Billy about how best to manage the team as assembled Billy knows that his and Peters jobs are on the line if they dont produce which he realizes means nothing less than winning the World Series But more important to Billy is to show the world of baseball that his way is the right way \n",
      "\n",
      "Pos-tagging took  0.0 : 0.018517017364501953  seconds\n",
      "\n",
      "\n",
      "POS-tagged:\n",
      " [[('The', 'DT'), ('Oakland', 'NNP'), ('As', 'IN'), ('end', 'VBP'), ('their', 'PRP$'), ('season', 'NN'), ('with', 'IN'), ('a', 'DT'), ('loss', 'NN'), ('in', 'IN'), ('the', 'DT'), ('AL', 'NNP'), ('fifth', 'JJ'), ('game', 'NN'), ('of', 'IN'), ('a', 'DT'), ('best', 'JJS'), ('of', 'IN'), ('five', 'CD'), ('elimination', 'NN'), ('series', 'NN'), ('still', 'RB'), ('an', 'DT'), ('admirable', 'JJ'), ('accomplishment', 'NN'), ('seeing', 'VBG'), ('as', 'RB'), ('the', 'DT'), ('As', 'NNPS'), ('are', 'VBP'), ('considered', 'VBN'), ('a', 'DT'), ('poor', 'JJ'), ('team', 'NN'), ('with', 'IN'), ('a', 'DT'), ('payroll', 'NN'), ('onethird', 'NN'), ('of', 'IN'), ('that', 'DT'), ('of', 'IN'), ('a', 'DT'), ('rich', 'JJ'), ('team', 'NN'), ('like', 'IN'), ('the', 'DT'), ('New', 'NNP'), ('York', 'NNP'), ('Yankees', 'NNP'), ('During', 'IN'), ('the', 'DT'), ('off', 'RP'), ('season', 'NN'), ('they', 'PRP'), ('lose', 'VBP'), ('three', 'CD'), ('of', 'IN'), ('their', 'PRP$'), ('star', 'NN'), ('players', 'NNS'), ('through', 'IN'), ('free', 'JJ'), ('agency', 'NN'), ('most', 'RBS'), ('problematic', 'JJ'), ('being', 'VBG'), ('first', 'JJ'), ('baseman', 'NN'), ('Jason', 'NNP'), ('Giambi', 'NNP'), ('Without', 'IN'), ('more', 'JJR'), ('money', 'NN'), ('which', 'WDT'), ('he', 'PRP'), ('doesnt', 'VBZ'), ('get', 'NN'), ('from', 'IN'), ('owner', 'NN'), ('Stephen', 'NNP'), ('Schott', 'NNP'), ('the', 'DT'), ('As', 'NNP'), ('GM', 'NNP'), ('Billy', 'NNP'), ('Beane', 'NNP'), ('knows', 'VBZ'), ('that', 'IN'), ('they', 'PRP'), ('will', 'MD'), ('never', 'RB'), ('win', 'VB'), ('the', 'DT'), ('World', 'NNP'), ('Series', 'NNP'), ('as', 'IN'), ('richer', 'JJR'), ('teams', 'NNS'), ('will', 'MD'), ('always', 'RB'), ('be', 'VB'), ('able', 'JJ'), ('to', 'TO'), ('pilfer', 'VB'), ('their', 'PRP$'), ('best', 'JJS'), ('players', 'NNS'), ('ones', 'NNS'), ('they', 'PRP'), ('have', 'VBP'), ('been', 'VBN'), ('able', 'JJ'), ('to', 'TO'), ('nurture', 'VB'), ('with', 'IN'), ('more', 'RBR'), ('lucrative', 'JJ'), ('contracts', 'NNS'), ('Billy', 'RB'), ('knows', 'VBZ'), ('they', 'PRP'), ('have', 'VBP'), ('to', 'TO'), ('think', 'VB'), ('differently', 'RB'), ('about', 'IN'), ('how', 'WRB'), ('to', 'TO'), ('replace', 'VB'), ('the', 'DT'), ('three', 'CD'), ('looking', 'VBG'), ('at', 'IN'), ('what', 'WP'), ('they', 'PRP'), ('require', 'VBP'), ('in', 'IN'), ('combination', 'NN'), ('rather', 'RB'), ('than', 'IN'), ('looking', 'VBG'), ('at', 'IN'), ('the', 'DT'), ('three', 'CD'), ('as', 'IN'), ('individuals', 'NNS'), ('which', 'WDT'), ('is', 'VBZ'), ('different', 'JJ'), ('than', 'IN'), ('the', 'DT'), ('way', 'NN'), ('scouts', 'NNS'), ('have', 'VBP'), ('looked', 'VBN'), ('at', 'IN'), ('players', 'NNS'), ('over', 'IN'), ('the', 'DT'), ('sports', 'NNS'), ('history', 'NN'), ('In', 'IN'), ('a', 'DT'), ('meeting', 'NN'), ('with', 'IN'), ('Cleveland', 'NNP'), ('Indians', 'NNP'), ('management', 'NN'), ('about', 'IN'), ('players', 'NNS'), ('Billy', 'NNP'), ('meets', 'NNS'), ('Peter', 'NNP'), ('Brand', 'NNP'), ('a', 'DT'), ('quiet', 'JJ'), ('Yale', 'NNP'), ('Economics', 'NNP'), ('graduate', 'NN'), ('who', 'WP'), ('works', 'VBZ'), ('for', 'IN'), ('the', 'DT'), ('Indians', 'NNPS'), ('doing', 'VBG'), ('player', 'NN'), ('analysis', 'NN'), ('Upon', 'IN'), ('questioning', 'VBG'), ('Peter', 'NNP'), ('later', 'RB'), ('in', 'IN'), ('private', 'JJ'), ('Billy', 'NNP'), ('realizes', 'VBZ'), ('that', 'IN'), ('purely', 'RB'), ('academic', 'JJ'), ('Peter', 'NNP'), ('has', 'VBZ'), ('much', 'RB'), ('the', 'DT'), ('same', 'JJ'), ('thought', 'JJ'), ('process', 'NN'), ('as', 'IN'), ('he', 'PRP'), ('does', 'VBZ'), ('Billy', 'NNP'), ('hires', 'VBZ'), ('him', 'PRP'), ('as', 'RB'), ('the', 'DT'), ('As', 'NNP'), ('Assistant', 'NNP'), ('GM', 'NNP'), ('after', 'IN'), ('receiving', 'VBG'), ('what', 'WP'), ('he', 'PRP'), ('considers', 'VBZ'), ('the', 'DT'), ('correct', 'JJ'), ('answer', 'NN'), ('to', 'TO'), ('Billys', 'NNP'), ('question', 'NN'), ('on', 'IN'), ('his', 'PRP$'), ('own', 'JJ'), ('checkered', 'JJ'), ('past', 'NN'), ('as', 'IN'), ('a', 'DT'), ('first', 'JJ'), ('round', 'NN'), ('draft', 'NN'), ('pick', 'NN'), ('which', 'WDT'), ('led', 'VBD'), ('to', 'TO'), ('notoriety', 'VB'), ('as', 'IN'), ('a', 'DT'), ('failure', 'NN'), ('as', 'IN'), ('a', 'DT'), ('player', 'NN'), ('But', 'CC'), ('once', 'RB'), ('on', 'IN'), ('the', 'DT'), ('payroll', 'NN'), ('Peter', 'NNP'), ('convinces', 'VBZ'), ('Billy', 'NNP'), ('to', 'TO'), ('look', 'VB'), ('at', 'IN'), ('the', 'DT'), ('entire', 'JJ'), ('dugout', 'NN'), ('and', 'CC'), ('acquire', 'VB'), ('undervalued', 'JJ'), ('players', 'NNS'), ('for', 'IN'), ('what', 'WP'), ('they', 'PRP'), ('can', 'MD'), ('do', 'VB'), ('in', 'IN'), ('order', 'NN'), ('for', 'IN'), ('the', 'DT'), ('team', 'NN'), ('to', 'TO'), ('win', 'VB'), ('As', 'IN'), ('an', 'DT'), ('example', 'NN'), ('they', 'PRP'), ('acquire', 'VB'), ('former', 'JJ'), ('catcher', 'NN'), ('Scott', 'NNP'), ('Hatteberg', 'NNP'), ('whose', 'WP$'), ('career', 'NN'), ('is', 'VBZ'), ('seen', 'VBN'), ('as', 'IN'), ('being', 'VBG'), ('over', 'IN'), ('by', 'IN'), ('all', 'DT'), ('other', 'JJ'), ('teams', 'NNS'), ('due', 'JJ'), ('to', 'TO'), ('an', 'DT'), ('elbow', 'JJ'), ('injury', 'NN'), ('that', 'IN'), ('doesnt', 'VBZ'), ('allow', 'VB'), ('him', 'PRP'), ('to', 'TO'), ('throw', 'VB'), ('Although', 'IN'), ('not', 'RB'), ('a', 'DT'), ('hitter', 'NN'), ('they', 'PRP'), ('acquire', 'VB'), ('him', 'PRP'), ('for', 'IN'), ('his', 'PRP$'), ('ability', 'NN'), ('to', 'TO'), ('get', 'VB'), ('on', 'IN'), ('base', 'NN'), ('in', 'IN'), ('whatever', 'WDT'), ('way', 'NN'), ('required', 'VBN'), ('usually', 'RB'), ('by', 'IN'), ('walks', 'NNS'), ('and', 'CC'), ('plan', 'NN'), ('to', 'TO'), ('teach', 'VB'), ('him', 'PRP'), ('how', 'WRB'), ('to', 'TO'), ('play', 'VB'), ('first', 'JJ'), ('base', 'NN'), ('a', 'DT'), ('generally', 'RB'), ('nonthrowing', 'JJ'), ('position', 'NN'), ('These', 'DT'), ('moves', 'NNS'), ('dont', 'VBP'), ('sit', 'RB'), ('well', 'RB'), ('with', 'IN'), ('the', 'DT'), ('As', 'NNP'), ('scouting', 'NN'), ('team', 'NN'), ('and', 'CC'), ('sports', 'NNS'), ('analysts', 'NNS'), ('Problematic', 'NNP'), ('is', 'VBZ'), ('that', 'IN'), ('the', 'DT'), ('As', 'NNP'), ('Manager', 'NNP'), ('Art', 'NNP'), ('Howe', 'NNP'), ('who', 'WP'), ('also', 'RB'), ('doesnt', 'VBP'), ('agree', 'JJ'), ('with', 'IN'), ('or', 'CC'), ('understand', 'VB'), ('the', 'DT'), ('strategy', 'NN'), ('refuses', 'VBZ'), ('to', 'TO'), ('listen', 'VB'), ('to', 'TO'), ('Billy', 'NNP'), ('about', 'IN'), ('how', 'WRB'), ('best', 'JJS'), ('to', 'TO'), ('manage', 'VB'), ('the', 'DT'), ('team', 'NN'), ('as', 'IN'), ('assembled', 'VBN'), ('Billy', 'NNP'), ('knows', 'VBZ'), ('that', 'IN'), ('his', 'PRP$'), ('and', 'CC'), ('Peters', 'NNP'), ('jobs', 'NNS'), ('are', 'VBP'), ('on', 'IN'), ('the', 'DT'), ('line', 'NN'), ('if', 'IN'), ('they', 'PRP'), ('dont', 'VBP'), ('produce', 'VBP'), ('which', 'WDT'), ('he', 'PRP'), ('realizes', 'VBZ'), ('means', 'VBZ'), ('nothing', 'NN'), ('less', 'JJR'), ('than', 'IN'), ('winning', 'VBG'), ('the', 'DT'), ('World', 'NNP'), ('Series', 'NNP'), ('But', 'CC'), ('more', 'RBR'), ('important', 'JJ'), ('to', 'TO'), ('Billy', 'NNP'), ('is', 'VBZ'), ('to', 'TO'), ('show', 'VB'), ('the', 'DT'), ('world', 'NN'), ('of', 'IN'), ('baseball', 'NN'), ('that', 'IN'), ('his', 'PRP$'), ('way', 'NN'), ('is', 'VBZ'), ('the', 'DT'), ('right', 'JJ'), ('way', 'NN')]]\n",
      "POS-trimming took  0.0 : 0.0  seconds\n",
      "\n",
      "\n",
      "Cleaned:\n",
      " ['loss', 'game', 'elimination', 'series', 'accomplishment', 'team', 'payroll', 'onethird', 'team', 'player', 'agency', 'baseman', 'money', 'owner', 'team', 'player', 'contract', 'combination', 'individual', 'scout', 'player', 'sport', 'history', 'meeting', 'management', 'player', 'meet', 'graduate', 'player', 'analysis', 'process', 'answer', 'question', 'round', 'draft', 'pick', 'failure', 'player', 'payroll', 'dugout', 'player', 'order', 'team', 'example', 'catcher', 'career', 'team', 'injury', 'hitter', 'ability', 'base', 'walk', 'plan', 'base', 'position', 'move', 'scouting', 'team', 'sport', 'analyst', 'strategy', 'team', 'job', 'baseball'] \n",
      "\n",
      "\n",
      "\n",
      "\n",
      "Prob:  0.525380416669  : \n",
      " 0.094*\"game\" + 0.069*\"team\" + 0.038*\"player\" + 0.026*\"football\" + 0.026*\"competition\" + 0.021*\"coach\"\n",
      "\n",
      "Prob:  0.204764317729  : \n",
      " 0.076*\"team\" + 0.048*\"agent\" + 0.026*\"spy\" + 0.014*\"formula\" + 0.011*\"order\" + 0.009*\"list\"\n",
      "\n",
      "Prob:  0.183507928925  : \n",
      " 0.135*\"ghost\" + 0.047*\"baseball\" + 0.024*\"bat\" + 0.021*\"ice\" + 0.016*\"vote\" + 0.016*\"cream\"\n",
      "\n",
      "Prob:  0.0441986836767  : \n",
      " 0.045*\"hotel\" + 0.032*\"wife\" + 0.020*\"job\" + 0.017*\"affair\" + 0.015*\"husband\" + 0.012*\"room\"\n",
      "\n",
      "Prob:  0.0274597129092  : \n",
      " 0.120*\"money\" + 0.054*\"car\" + 0.013*\"drug\" + 0.013*\"job\" + 0.012*\"debt\" + 0.010*\"cash\"\n",
      "\n",
      "\n",
      "Document:\n",
      " In the s Captain Nathan Algren a cynical veteran of the American Civil war who will work for anyone is hired by Americans who want lucrative contracts with the Emperor of Japan to train the peasant conscripts for the first standing imperial army in modern warfare using firearms The imperial Omura cabinets first priority is to repress a rebellion of traditionalist Samurai hereditary warriors who remain devoted to the sacred dynasty but reject the Westernizing policy and even refuse firearms Yet when his illprepared superior force sets out too soon their panic allows the swordwielding samurai to crush them Badly wounded Algrens courageous stand makes the samurai leader Katsumoto spare his life once nursed to health he learns to know and respect the old Japanese way and participates as advisor in Katsumotos failed attempt to save the Bushido tradition but Omura gets repressive laws enacted he must now choose to honor his loyalty to one of the embittered sides when the conflict returns to the battlefield \n",
      "\n",
      "Pos-tagging took  0.0 : 0.010000228881835938  seconds\n",
      "\n",
      "\n",
      "POS-tagged:\n",
      " [[('In', 'IN'), ('the', 'DT'), ('s', 'NN'), ('Captain', 'NNP'), ('Nathan', 'NNP'), ('Algren', 'NNP'), ('a', 'DT'), ('cynical', 'JJ'), ('veteran', 'NN'), ('of', 'IN'), ('the', 'DT'), ('American', 'NNP'), ('Civil', 'NNP'), ('war', 'NN'), ('who', 'WP'), ('will', 'MD'), ('work', 'VB'), ('for', 'IN'), ('anyone', 'NN'), ('is', 'VBZ'), ('hired', 'VBN'), ('by', 'IN'), ('Americans', 'NNPS'), ('who', 'WP'), ('want', 'VBP'), ('lucrative', 'JJ'), ('contracts', 'NNS'), ('with', 'IN'), ('the', 'DT'), ('Emperor', 'NNP'), ('of', 'IN'), ('Japan', 'NNP'), ('to', 'TO'), ('train', 'VB'), ('the', 'DT'), ('peasant', 'NN'), ('conscripts', 'NNS'), ('for', 'IN'), ('the', 'DT'), ('first', 'JJ'), ('standing', 'VBG'), ('imperial', 'JJ'), ('army', 'NN'), ('in', 'IN'), ('modern', 'JJ'), ('warfare', 'NN'), ('using', 'VBG'), ('firearms', 'NNS'), ('The', 'DT'), ('imperial', 'JJ'), ('Omura', 'NNP'), ('cabinets', 'NNS'), ('first', 'JJ'), ('priority', 'NN'), ('is', 'VBZ'), ('to', 'TO'), ('repress', 'VB'), ('a', 'DT'), ('rebellion', 'NN'), ('of', 'IN'), ('traditionalist', 'NN'), ('Samurai', 'NNP'), ('hereditary', 'JJ'), ('warriors', 'NNS'), ('who', 'WP'), ('remain', 'VBP'), ('devoted', 'VBN'), ('to', 'TO'), ('the', 'DT'), ('sacred', 'JJ'), ('dynasty', 'NN'), ('but', 'CC'), ('reject', 'VBP'), ('the', 'DT'), ('Westernizing', 'NN'), ('policy', 'NN'), ('and', 'CC'), ('even', 'RB'), ('refuse', 'VB'), ('firearms', 'NNS'), ('Yet', 'CC'), ('when', 'WRB'), ('his', 'PRP$'), ('illprepared', 'JJ'), ('superior', 'JJ'), ('force', 'NN'), ('sets', 'NNS'), ('out', 'RP'), ('too', 'RB'), ('soon', 'RB'), ('their', 'PRP$'), ('panic', 'NN'), ('allows', 'VBZ'), ('the', 'DT'), ('swordwielding', 'VBG'), ('samurai', 'NN'), ('to', 'TO'), ('crush', 'VB'), ('them', 'PRP'), ('Badly', 'RB'), ('wounded', 'VBD'), ('Algrens', 'NNP'), ('courageous', 'JJ'), ('stand', 'NN'), ('makes', 'VBZ'), ('the', 'DT'), ('samurai', 'JJ'), ('leader', 'NN'), ('Katsumoto', 'NNP'), ('spare', 'VB'), ('his', 'PRP$'), ('life', 'NN'), ('once', 'RB'), ('nursed', 'VBN'), ('to', 'TO'), ('health', 'NN'), ('he', 'PRP'), ('learns', 'VBZ'), ('to', 'TO'), ('know', 'VB'), ('and', 'CC'), ('respect', 'VB'), ('the', 'DT'), ('old', 'JJ'), ('Japanese', 'JJ'), ('way', 'NN'), ('and', 'CC'), ('participates', 'NNS'), ('as', 'IN'), ('advisor', 'NN'), ('in', 'IN'), ('Katsumotos', 'NNP'), ('failed', 'VBD'), ('attempt', 'NN'), ('to', 'TO'), ('save', 'VB'), ('the', 'DT'), ('Bushido', 'NNP'), ('tradition', 'NN'), ('but', 'CC'), ('Omura', 'NNP'), ('gets', 'VBZ'), ('repressive', 'JJ'), ('laws', 'NNS'), ('enacted', 'VBN'), ('he', 'PRP'), ('must', 'MD'), ('now', 'RB'), ('choose', 'VB'), ('to', 'TO'), ('honor', 'VB'), ('his', 'PRP$'), ('loyalty', 'NN'), ('to', 'TO'), ('one', 'CD'), ('of', 'IN'), ('the', 'DT'), ('embittered', 'JJ'), ('sides', 'NNS'), ('when', 'WRB'), ('the', 'DT'), ('conflict', 'NN'), ('returns', 'NNS'), ('to', 'TO'), ('the', 'DT'), ('battlefield', 'NN')]]\n",
      "POS-trimming took  0.0 : 0.0  seconds\n",
      "\n",
      "\n",
      "Cleaned:\n",
      " ['veteran', 'war', 'contract', 'peasant', 'conscript', 'army', 'warfare', 'firearm', 'cabinet', 'priority', 'rebellion', 'traditionalist', 'warrior', 'dynasty', 'westernizing', 'policy', 'firearm', 'force', 'set', 'panic', 'samurai', 'stand', 'leader', 'life', 'health', 'participates', 'advisor', 'attempt', 'tradition', 'law', 'loyalty', 'side', 'conflict', 'return', 'battlefield'] \n",
      "\n",
      "\n",
      "\n",
      "\n",
      "Prob:  0.45592915926  : \n",
      " 0.036*\"men\" + 0.012*\"ranch\" + 0.012*\"bandit\" + 0.011*\"land\" + 0.010*\"gun\" + 0.009*\"wife\"\n",
      "\n",
      "Prob:  0.264436491345  : \n",
      " 0.057*\"soldier\" + 0.036*\"battle\" + 0.035*\"army\" + 0.028*\"war\" + 0.023*\"attack\" + 0.023*\"force\"\n",
      "\n",
      "Prob:  0.109706223688  : \n",
      " 0.102*\"island\" + 0.053*\"boat\" + 0.028*\"sea\" + 0.026*\"tribe\" + 0.015*\"native\" + 0.015*\"jungle\"\n",
      "\n",
      "Prob:  0.0821475412592  : \n",
      " 0.119*\"life\" + 0.022*\"city\" + 0.022*\"story\" + 0.020*\"family\" + 0.017*\"people\" + 0.017*\"film\"\n",
      "\n",
      "Prob:  0.061760176284  : \n",
      " 0.067*\"uncle\" + 0.042*\"factory\" + 0.034*\"aunt\" + 0.033*\"town\" + 0.025*\"worker\" + 0.020*\"mayor\"\n",
      "\n",
      "\n",
      "Document:\n",
      " Inside Job provides a comprehensive analysis of the global financial crisis of  which at a cost over  trillion caused millions of people to lose their jobs and homes in the worst recession since the Great Depression and nearly resulted in a global financial collapse Through exhaustive research and extensive interviews with key financial insiders politicians journalists and academics the film traces the rise of a rogue industry which has corrupted politics regulation and academia It was made on location in the United States Iceland England France Singapore and China \n",
      "\n",
      "Pos-tagging took  0.0 : 0.004003286361694336  seconds\n",
      "\n",
      "\n",
      "POS-tagged:\n",
      " [[('Inside', 'IN'), ('Job', 'NNP'), ('provides', 'VBZ'), ('a', 'DT'), ('comprehensive', 'JJ'), ('analysis', 'NN'), ('of', 'IN'), ('the', 'DT'), ('global', 'JJ'), ('financial', 'JJ'), ('crisis', 'NN'), ('of', 'IN'), ('which', 'WDT'), ('at', 'IN'), ('a', 'DT'), ('cost', 'NN'), ('over', 'IN'), ('trillion', 'CD'), ('caused', 'JJ'), ('millions', 'NNS'), ('of', 'IN'), ('people', 'NNS'), ('to', 'TO'), ('lose', 'VB'), ('their', 'PRP$'), ('jobs', 'NNS'), ('and', 'CC'), ('homes', 'NNS'), ('in', 'IN'), ('the', 'DT'), ('worst', 'JJS'), ('recession', 'NN'), ('since', 'IN'), ('the', 'DT'), ('Great', 'NNP'), ('Depression', 'NNP'), ('and', 'CC'), ('nearly', 'RB'), ('resulted', 'VBD'), ('in', 'IN'), ('a', 'DT'), ('global', 'JJ'), ('financial', 'JJ'), ('collapse', 'NN'), ('Through', 'IN'), ('exhaustive', 'JJ'), ('research', 'NN'), ('and', 'CC'), ('extensive', 'JJ'), ('interviews', 'NNS'), ('with', 'IN'), ('key', 'JJ'), ('financial', 'JJ'), ('insiders', 'NNS'), ('politicians', 'NNS'), ('journalists', 'NNS'), ('and', 'CC'), ('academics', 'NNS'), ('the', 'DT'), ('film', 'NN'), ('traces', 'VBZ'), ('the', 'DT'), ('rise', 'NN'), ('of', 'IN'), ('a', 'DT'), ('rogue', 'NN'), ('industry', 'NN'), ('which', 'WDT'), ('has', 'VBZ'), ('corrupted', 'VBN'), ('politics', 'NNS'), ('regulation', 'NN'), ('and', 'CC'), ('academia', 'NN'), ('It', 'PRP'), ('was', 'VBD'), ('made', 'VBN'), ('on', 'IN'), ('location', 'NN'), ('in', 'IN'), ('the', 'DT'), ('United', 'NNP'), ('States', 'NNPS'), ('Iceland', 'NNP'), ('England', 'NNP'), ('France', 'NNP'), ('Singapore', 'NNP'), ('and', 'CC'), ('China', 'NNP')]]\n",
      "POS-trimming took  0.0 : 0.0  seconds\n",
      "\n",
      "\n",
      "Cleaned:\n",
      " ['analysis', 'crisis', 'cost', 'million', 'people', 'job', 'home', 'recession', 'collapse', 'interview', 'insider', 'politician', 'journalist', 'academic', 'film', 'rise', 'rogue', 'industry', 'politics', 'regulation', 'academia', 'location'] \n",
      "\n",
      "\n",
      "\n",
      "\n",
      "Prob:  0.294280585817  : \n",
      " 0.047*\"government\" + 0.024*\"city\" + 0.022*\"computer\" + 0.016*\"virus\" + 0.014*\"country\" + 0.014*\"people\"\n",
      "\n",
      "Prob:  0.187409339989  : \n",
      " 0.044*\"story\" + 0.038*\"reporter\" + 0.036*\"newspaper\" + 0.023*\"villain\" + 0.021*\"minister\" + 0.021*\"journalist\"\n",
      "\n",
      "Prob:  0.176865664067  : \n",
      " 0.136*\"film\" + 0.039*\"story\" + 0.031*\"character\" + 0.025*\"scene\" + 0.024*\"book\" + 0.021*\"movie\"\n",
      "\n",
      "Prob:  0.166857846509  : \n",
      " 0.076*\"team\" + 0.048*\"agent\" + 0.026*\"spy\" + 0.014*\"formula\" + 0.011*\"order\" + 0.009*\"list\"\n",
      "\n",
      "Prob:  0.0826733024264  : \n",
      " 0.037*\"letter\" + 0.037*\"job\" + 0.027*\"relationship\" + 0.024*\"life\" + 0.022*\"company\" + 0.021*\"friend\"\n",
      "\n",
      "Prob:  0.0513288456062  : \n",
      " 0.163*\"school\" + 0.101*\"student\" + 0.047*\"teacher\" + 0.046*\"college\" + 0.036*\"class\" + 0.017*\"professor\"\n"
     ]
    }
   ],
   "source": [
    "# Train the model. Set it too 56 topics, 25 passes and 60 iterations.\n",
    "# Train method takes as input: \"algorithm\", \"number of topics\", \"number of passes\" and \"number of iterations\". \n",
    "# Note that you probably will have to enter passes and iterations if \"lsi\" is specified even though they are not used. \n",
    "model = train(\"lda\", 56, 25, 60)\n",
    "\n",
    "# Run the test data\n",
    "run_test(\"lda\", \"TestData\\Summaries\\documents.txt\")"
   ]
  }
 ],
 "metadata": {
  "anaconda-cloud": {},
  "kernelspec": {
   "display_name": "Python 3",
   "language": "python",
   "name": "python3"
  },
  "language_info": {
   "codemirror_mode": {
    "name": "ipython",
    "version": 3
   },
   "file_extension": ".py",
   "mimetype": "text/x-python",
   "name": "python",
   "nbconvert_exporter": "python",
   "pygments_lexer": "ipython3",
   "version": "3.6.0"
  }
 },
 "nbformat": 4,
 "nbformat_minor": 1
}
